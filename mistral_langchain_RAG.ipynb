{
 "cells": [
  {
   "cell_type": "markdown",
   "source": [
    "# Langchain RAG with Mistral\n",
    "\n",
    "This notebook is part of a medium article that I wrote about the Mistal 7B model. In this notebook I will show a simple example of how to use the Langchain RAG with the Mistral model. This can also be used with a series of other models from the LLM family. See the table below. \n",
    "\n",
    "First, intall the Mistal 7B model here:\n",
    "\n",
    "## [Mistral 7B](https://ollama.ai/download)\n",
    "\n",
    "## [Medium Article](Link to medium article)"
   ],
   "metadata": {
    "collapsed": false
   },
   "id": "f2833cfac0f89883"
  },
  {
   "cell_type": "code",
   "execution_count": 11,
   "outputs": [
    {
     "name": "stdout",
     "output_type": "stream",
     "text": [
      "Requirement already satisfied: langchain in /Users/erictak/PycharmProjects/Spotify_2/Mistral7B/lib/python3.10/site-packages (0.0.314)\r\n",
      "Requirement already satisfied: PyYAML>=5.3 in /Users/erictak/PycharmProjects/Spotify_2/Mistral7B/lib/python3.10/site-packages (from langchain) (6.0.1)\r\n",
      "Requirement already satisfied: SQLAlchemy<3,>=1.4 in /Users/erictak/PycharmProjects/Spotify_2/Mistral7B/lib/python3.10/site-packages (from langchain) (2.0.22)\r\n",
      "Requirement already satisfied: aiohttp<4.0.0,>=3.8.3 in /Users/erictak/PycharmProjects/Spotify_2/Mistral7B/lib/python3.10/site-packages (from langchain) (3.8.6)\r\n",
      "Requirement already satisfied: anyio<4.0 in /Users/erictak/PycharmProjects/Spotify_2/Mistral7B/lib/python3.10/site-packages (from langchain) (3.7.1)\r\n",
      "Requirement already satisfied: async-timeout<5.0.0,>=4.0.0 in /Users/erictak/PycharmProjects/Spotify_2/Mistral7B/lib/python3.10/site-packages (from langchain) (4.0.3)\r\n",
      "Requirement already satisfied: dataclasses-json<0.7,>=0.5.7 in /Users/erictak/PycharmProjects/Spotify_2/Mistral7B/lib/python3.10/site-packages (from langchain) (0.6.1)\r\n",
      "Requirement already satisfied: jsonpatch<2.0,>=1.33 in /Users/erictak/PycharmProjects/Spotify_2/Mistral7B/lib/python3.10/site-packages (from langchain) (1.33)\r\n",
      "Requirement already satisfied: langsmith<0.1.0,>=0.0.43 in /Users/erictak/PycharmProjects/Spotify_2/Mistral7B/lib/python3.10/site-packages (from langchain) (0.0.43)\r\n",
      "Requirement already satisfied: numpy<2,>=1 in /Users/erictak/PycharmProjects/Spotify_2/Mistral7B/lib/python3.10/site-packages (from langchain) (1.26.1)\r\n",
      "Requirement already satisfied: pydantic<3,>=1 in /Users/erictak/PycharmProjects/Spotify_2/Mistral7B/lib/python3.10/site-packages (from langchain) (2.4.2)\r\n",
      "Requirement already satisfied: requests<3,>=2 in /Users/erictak/PycharmProjects/Spotify_2/Mistral7B/lib/python3.10/site-packages (from langchain) (2.31.0)\r\n",
      "Requirement already satisfied: tenacity<9.0.0,>=8.1.0 in /Users/erictak/PycharmProjects/Spotify_2/Mistral7B/lib/python3.10/site-packages (from langchain) (8.2.3)\r\n",
      "Requirement already satisfied: attrs>=17.3.0 in /Users/erictak/PycharmProjects/Spotify_2/Mistral7B/lib/python3.10/site-packages (from aiohttp<4.0.0,>=3.8.3->langchain) (23.1.0)\r\n",
      "Requirement already satisfied: charset-normalizer<4.0,>=2.0 in /Users/erictak/PycharmProjects/Spotify_2/Mistral7B/lib/python3.10/site-packages (from aiohttp<4.0.0,>=3.8.3->langchain) (3.3.0)\r\n",
      "Requirement already satisfied: multidict<7.0,>=4.5 in /Users/erictak/PycharmProjects/Spotify_2/Mistral7B/lib/python3.10/site-packages (from aiohttp<4.0.0,>=3.8.3->langchain) (6.0.4)\r\n",
      "Requirement already satisfied: yarl<2.0,>=1.0 in /Users/erictak/PycharmProjects/Spotify_2/Mistral7B/lib/python3.10/site-packages (from aiohttp<4.0.0,>=3.8.3->langchain) (1.9.2)\r\n",
      "Requirement already satisfied: frozenlist>=1.1.1 in /Users/erictak/PycharmProjects/Spotify_2/Mistral7B/lib/python3.10/site-packages (from aiohttp<4.0.0,>=3.8.3->langchain) (1.4.0)\r\n",
      "Requirement already satisfied: aiosignal>=1.1.2 in /Users/erictak/PycharmProjects/Spotify_2/Mistral7B/lib/python3.10/site-packages (from aiohttp<4.0.0,>=3.8.3->langchain) (1.3.1)\r\n",
      "Requirement already satisfied: idna>=2.8 in /Users/erictak/PycharmProjects/Spotify_2/Mistral7B/lib/python3.10/site-packages (from anyio<4.0->langchain) (3.4)\r\n",
      "Requirement already satisfied: sniffio>=1.1 in /Users/erictak/PycharmProjects/Spotify_2/Mistral7B/lib/python3.10/site-packages (from anyio<4.0->langchain) (1.3.0)\r\n",
      "Requirement already satisfied: exceptiongroup in /Users/erictak/PycharmProjects/Spotify_2/Mistral7B/lib/python3.10/site-packages (from anyio<4.0->langchain) (1.1.3)\r\n",
      "Requirement already satisfied: marshmallow<4.0.0,>=3.18.0 in /Users/erictak/PycharmProjects/Spotify_2/Mistral7B/lib/python3.10/site-packages (from dataclasses-json<0.7,>=0.5.7->langchain) (3.20.1)\r\n",
      "Requirement already satisfied: typing-inspect<1,>=0.4.0 in /Users/erictak/PycharmProjects/Spotify_2/Mistral7B/lib/python3.10/site-packages (from dataclasses-json<0.7,>=0.5.7->langchain) (0.9.0)\r\n",
      "Requirement already satisfied: jsonpointer>=1.9 in /Users/erictak/PycharmProjects/Spotify_2/Mistral7B/lib/python3.10/site-packages (from jsonpatch<2.0,>=1.33->langchain) (2.4)\r\n",
      "Requirement already satisfied: annotated-types>=0.4.0 in /Users/erictak/PycharmProjects/Spotify_2/Mistral7B/lib/python3.10/site-packages (from pydantic<3,>=1->langchain) (0.6.0)\r\n",
      "Requirement already satisfied: pydantic-core==2.10.1 in /Users/erictak/PycharmProjects/Spotify_2/Mistral7B/lib/python3.10/site-packages (from pydantic<3,>=1->langchain) (2.10.1)\r\n",
      "Requirement already satisfied: typing-extensions>=4.6.1 in /Users/erictak/PycharmProjects/Spotify_2/Mistral7B/lib/python3.10/site-packages (from pydantic<3,>=1->langchain) (4.8.0)\r\n",
      "Requirement already satisfied: urllib3<3,>=1.21.1 in /Users/erictak/PycharmProjects/Spotify_2/Mistral7B/lib/python3.10/site-packages (from requests<3,>=2->langchain) (2.0.6)\r\n",
      "Requirement already satisfied: certifi>=2017.4.17 in /Users/erictak/PycharmProjects/Spotify_2/Mistral7B/lib/python3.10/site-packages (from requests<3,>=2->langchain) (2023.7.22)\r\n",
      "Requirement already satisfied: packaging>=17.0 in /Users/erictak/PycharmProjects/Spotify_2/Mistral7B/lib/python3.10/site-packages (from marshmallow<4.0.0,>=3.18.0->dataclasses-json<0.7,>=0.5.7->langchain) (23.2)\r\n",
      "Requirement already satisfied: mypy-extensions>=0.3.0 in /Users/erictak/PycharmProjects/Spotify_2/Mistral7B/lib/python3.10/site-packages (from typing-inspect<1,>=0.4.0->dataclasses-json<0.7,>=0.5.7->langchain) (1.0.0)\r\n",
      "\u001B[33mWARNING: There was an error checking the latest version of pip.\u001B[0m\u001B[33m\r\n",
      "\u001B[0mRequirement already satisfied: gpt4all in /Users/erictak/PycharmProjects/Spotify_2/Mistral7B/lib/python3.10/site-packages (1.0.12)\r\n",
      "Requirement already satisfied: requests in /Users/erictak/PycharmProjects/Spotify_2/Mistral7B/lib/python3.10/site-packages (from gpt4all) (2.31.0)\r\n",
      "Requirement already satisfied: tqdm in /Users/erictak/PycharmProjects/Spotify_2/Mistral7B/lib/python3.10/site-packages (from gpt4all) (4.66.1)\r\n",
      "Requirement already satisfied: charset-normalizer<4,>=2 in /Users/erictak/PycharmProjects/Spotify_2/Mistral7B/lib/python3.10/site-packages (from requests->gpt4all) (3.3.0)\r\n",
      "Requirement already satisfied: idna<4,>=2.5 in /Users/erictak/PycharmProjects/Spotify_2/Mistral7B/lib/python3.10/site-packages (from requests->gpt4all) (3.4)\r\n",
      "Requirement already satisfied: urllib3<3,>=1.21.1 in /Users/erictak/PycharmProjects/Spotify_2/Mistral7B/lib/python3.10/site-packages (from requests->gpt4all) (2.0.6)\r\n",
      "Requirement already satisfied: certifi>=2017.4.17 in /Users/erictak/PycharmProjects/Spotify_2/Mistral7B/lib/python3.10/site-packages (from requests->gpt4all) (2023.7.22)\r\n",
      "\u001B[33mWARNING: There was an error checking the latest version of pip.\u001B[0m\u001B[33m\r\n",
      "\u001B[0mRequirement already satisfied: chromadb in /Users/erictak/PycharmProjects/Spotify_2/Mistral7B/lib/python3.10/site-packages (0.4.14)\r\n",
      "Requirement already satisfied: requests>=2.28 in /Users/erictak/PycharmProjects/Spotify_2/Mistral7B/lib/python3.10/site-packages (from chromadb) (2.31.0)\r\n",
      "Requirement already satisfied: pydantic>=1.9 in /Users/erictak/PycharmProjects/Spotify_2/Mistral7B/lib/python3.10/site-packages (from chromadb) (2.4.2)\r\n",
      "Requirement already satisfied: chroma-hnswlib==0.7.3 in /Users/erictak/PycharmProjects/Spotify_2/Mistral7B/lib/python3.10/site-packages (from chromadb) (0.7.3)\r\n",
      "Requirement already satisfied: fastapi>=0.95.2 in /Users/erictak/PycharmProjects/Spotify_2/Mistral7B/lib/python3.10/site-packages (from chromadb) (0.103.2)\r\n",
      "Requirement already satisfied: uvicorn>=0.18.3 in /Users/erictak/PycharmProjects/Spotify_2/Mistral7B/lib/python3.10/site-packages (from uvicorn[standard]>=0.18.3->chromadb) (0.23.2)\r\n",
      "Requirement already satisfied: posthog>=2.4.0 in /Users/erictak/PycharmProjects/Spotify_2/Mistral7B/lib/python3.10/site-packages (from chromadb) (3.0.2)\r\n",
      "Requirement already satisfied: typing-extensions>=4.5.0 in /Users/erictak/PycharmProjects/Spotify_2/Mistral7B/lib/python3.10/site-packages (from chromadb) (4.8.0)\r\n",
      "Requirement already satisfied: pulsar-client>=3.1.0 in /Users/erictak/PycharmProjects/Spotify_2/Mistral7B/lib/python3.10/site-packages (from chromadb) (3.3.0)\r\n",
      "Requirement already satisfied: onnxruntime>=1.14.1 in /Users/erictak/PycharmProjects/Spotify_2/Mistral7B/lib/python3.10/site-packages (from chromadb) (1.16.1)\r\n",
      "Requirement already satisfied: tokenizers>=0.13.2 in /Users/erictak/PycharmProjects/Spotify_2/Mistral7B/lib/python3.10/site-packages (from chromadb) (0.14.1)\r\n",
      "Requirement already satisfied: pypika>=0.48.9 in /Users/erictak/PycharmProjects/Spotify_2/Mistral7B/lib/python3.10/site-packages (from chromadb) (0.48.9)\r\n",
      "Requirement already satisfied: tqdm>=4.65.0 in /Users/erictak/PycharmProjects/Spotify_2/Mistral7B/lib/python3.10/site-packages (from chromadb) (4.66.1)\r\n",
      "Requirement already satisfied: overrides>=7.3.1 in /Users/erictak/PycharmProjects/Spotify_2/Mistral7B/lib/python3.10/site-packages (from chromadb) (7.4.0)\r\n",
      "Requirement already satisfied: importlib-resources in /Users/erictak/PycharmProjects/Spotify_2/Mistral7B/lib/python3.10/site-packages (from chromadb) (6.1.0)\r\n",
      "Requirement already satisfied: grpcio>=1.58.0 in /Users/erictak/PycharmProjects/Spotify_2/Mistral7B/lib/python3.10/site-packages (from chromadb) (1.59.0)\r\n",
      "Requirement already satisfied: bcrypt>=4.0.1 in /Users/erictak/PycharmProjects/Spotify_2/Mistral7B/lib/python3.10/site-packages (from chromadb) (4.0.1)\r\n",
      "Requirement already satisfied: typer>=0.9.0 in /Users/erictak/PycharmProjects/Spotify_2/Mistral7B/lib/python3.10/site-packages (from chromadb) (0.9.0)\r\n",
      "Requirement already satisfied: numpy>=1.22.5 in /Users/erictak/PycharmProjects/Spotify_2/Mistral7B/lib/python3.10/site-packages (from chromadb) (1.26.1)\r\n",
      "Requirement already satisfied: anyio<4.0.0,>=3.7.1 in /Users/erictak/PycharmProjects/Spotify_2/Mistral7B/lib/python3.10/site-packages (from fastapi>=0.95.2->chromadb) (3.7.1)\r\n",
      "Requirement already satisfied: starlette<0.28.0,>=0.27.0 in /Users/erictak/PycharmProjects/Spotify_2/Mistral7B/lib/python3.10/site-packages (from fastapi>=0.95.2->chromadb) (0.27.0)\r\n",
      "Requirement already satisfied: coloredlogs in /Users/erictak/PycharmProjects/Spotify_2/Mistral7B/lib/python3.10/site-packages (from onnxruntime>=1.14.1->chromadb) (15.0.1)\r\n",
      "Requirement already satisfied: flatbuffers in /Users/erictak/PycharmProjects/Spotify_2/Mistral7B/lib/python3.10/site-packages (from onnxruntime>=1.14.1->chromadb) (23.5.26)\r\n",
      "Requirement already satisfied: packaging in /Users/erictak/PycharmProjects/Spotify_2/Mistral7B/lib/python3.10/site-packages (from onnxruntime>=1.14.1->chromadb) (23.2)\r\n",
      "Requirement already satisfied: protobuf in /Users/erictak/PycharmProjects/Spotify_2/Mistral7B/lib/python3.10/site-packages (from onnxruntime>=1.14.1->chromadb) (4.24.4)\r\n",
      "Requirement already satisfied: sympy in /Users/erictak/PycharmProjects/Spotify_2/Mistral7B/lib/python3.10/site-packages (from onnxruntime>=1.14.1->chromadb) (1.12)\r\n",
      "Requirement already satisfied: six>=1.5 in /Users/erictak/PycharmProjects/Spotify_2/Mistral7B/lib/python3.10/site-packages (from posthog>=2.4.0->chromadb) (1.16.0)\r\n",
      "Requirement already satisfied: monotonic>=1.5 in /Users/erictak/PycharmProjects/Spotify_2/Mistral7B/lib/python3.10/site-packages (from posthog>=2.4.0->chromadb) (1.6)\r\n",
      "Requirement already satisfied: backoff>=1.10.0 in /Users/erictak/PycharmProjects/Spotify_2/Mistral7B/lib/python3.10/site-packages (from posthog>=2.4.0->chromadb) (2.2.1)\r\n",
      "Requirement already satisfied: python-dateutil>2.1 in /Users/erictak/PycharmProjects/Spotify_2/Mistral7B/lib/python3.10/site-packages (from posthog>=2.4.0->chromadb) (2.8.2)\r\n",
      "Requirement already satisfied: certifi in /Users/erictak/PycharmProjects/Spotify_2/Mistral7B/lib/python3.10/site-packages (from pulsar-client>=3.1.0->chromadb) (2023.7.22)\r\n",
      "Requirement already satisfied: annotated-types>=0.4.0 in /Users/erictak/PycharmProjects/Spotify_2/Mistral7B/lib/python3.10/site-packages (from pydantic>=1.9->chromadb) (0.6.0)\r\n",
      "Requirement already satisfied: pydantic-core==2.10.1 in /Users/erictak/PycharmProjects/Spotify_2/Mistral7B/lib/python3.10/site-packages (from pydantic>=1.9->chromadb) (2.10.1)\r\n",
      "Requirement already satisfied: charset-normalizer<4,>=2 in /Users/erictak/PycharmProjects/Spotify_2/Mistral7B/lib/python3.10/site-packages (from requests>=2.28->chromadb) (3.3.0)\r\n",
      "Requirement already satisfied: idna<4,>=2.5 in /Users/erictak/PycharmProjects/Spotify_2/Mistral7B/lib/python3.10/site-packages (from requests>=2.28->chromadb) (3.4)\r\n",
      "Requirement already satisfied: urllib3<3,>=1.21.1 in /Users/erictak/PycharmProjects/Spotify_2/Mistral7B/lib/python3.10/site-packages (from requests>=2.28->chromadb) (2.0.6)\r\n",
      "Requirement already satisfied: huggingface_hub<0.18,>=0.16.4 in /Users/erictak/PycharmProjects/Spotify_2/Mistral7B/lib/python3.10/site-packages (from tokenizers>=0.13.2->chromadb) (0.17.3)\r\n",
      "Requirement already satisfied: click<9.0.0,>=7.1.1 in /Users/erictak/PycharmProjects/Spotify_2/Mistral7B/lib/python3.10/site-packages (from typer>=0.9.0->chromadb) (8.1.7)\r\n",
      "Requirement already satisfied: h11>=0.8 in /Users/erictak/PycharmProjects/Spotify_2/Mistral7B/lib/python3.10/site-packages (from uvicorn>=0.18.3->uvicorn[standard]>=0.18.3->chromadb) (0.14.0)\r\n",
      "Requirement already satisfied: httptools>=0.5.0 in /Users/erictak/PycharmProjects/Spotify_2/Mistral7B/lib/python3.10/site-packages (from uvicorn[standard]>=0.18.3->chromadb) (0.6.0)\r\n",
      "Requirement already satisfied: python-dotenv>=0.13 in /Users/erictak/PycharmProjects/Spotify_2/Mistral7B/lib/python3.10/site-packages (from uvicorn[standard]>=0.18.3->chromadb) (1.0.0)\r\n",
      "Requirement already satisfied: pyyaml>=5.1 in /Users/erictak/PycharmProjects/Spotify_2/Mistral7B/lib/python3.10/site-packages (from uvicorn[standard]>=0.18.3->chromadb) (6.0.1)\r\n",
      "Requirement already satisfied: uvloop!=0.15.0,!=0.15.1,>=0.14.0 in /Users/erictak/PycharmProjects/Spotify_2/Mistral7B/lib/python3.10/site-packages (from uvicorn[standard]>=0.18.3->chromadb) (0.18.0)\r\n",
      "Requirement already satisfied: watchfiles>=0.13 in /Users/erictak/PycharmProjects/Spotify_2/Mistral7B/lib/python3.10/site-packages (from uvicorn[standard]>=0.18.3->chromadb) (0.21.0)\r\n",
      "Requirement already satisfied: websockets>=10.4 in /Users/erictak/PycharmProjects/Spotify_2/Mistral7B/lib/python3.10/site-packages (from uvicorn[standard]>=0.18.3->chromadb) (11.0.3)\r\n",
      "Requirement already satisfied: sniffio>=1.1 in /Users/erictak/PycharmProjects/Spotify_2/Mistral7B/lib/python3.10/site-packages (from anyio<4.0.0,>=3.7.1->fastapi>=0.95.2->chromadb) (1.3.0)\r\n",
      "Requirement already satisfied: exceptiongroup in /Users/erictak/PycharmProjects/Spotify_2/Mistral7B/lib/python3.10/site-packages (from anyio<4.0.0,>=3.7.1->fastapi>=0.95.2->chromadb) (1.1.3)\r\n",
      "Requirement already satisfied: filelock in /Users/erictak/PycharmProjects/Spotify_2/Mistral7B/lib/python3.10/site-packages (from huggingface_hub<0.18,>=0.16.4->tokenizers>=0.13.2->chromadb) (3.12.4)\r\n",
      "Requirement already satisfied: fsspec in /Users/erictak/PycharmProjects/Spotify_2/Mistral7B/lib/python3.10/site-packages (from huggingface_hub<0.18,>=0.16.4->tokenizers>=0.13.2->chromadb) (2023.9.2)\r\n",
      "Requirement already satisfied: humanfriendly>=9.1 in /Users/erictak/PycharmProjects/Spotify_2/Mistral7B/lib/python3.10/site-packages (from coloredlogs->onnxruntime>=1.14.1->chromadb) (10.0)\r\n",
      "Requirement already satisfied: mpmath>=0.19 in /Users/erictak/PycharmProjects/Spotify_2/Mistral7B/lib/python3.10/site-packages (from sympy->onnxruntime>=1.14.1->chromadb) (1.3.0)\r\n",
      "\u001B[33mWARNING: There was an error checking the latest version of pip.\u001B[0m\u001B[33m\r\n",
      "\u001B[0mCollecting langchainhub\r\n",
      "  Downloading langchainhub-0.1.13-py3-none-any.whl.metadata (478 bytes)\r\n",
      "Requirement already satisfied: requests<3,>=2 in /Users/erictak/PycharmProjects/Spotify_2/Mistral7B/lib/python3.10/site-packages (from langchainhub) (2.31.0)\r\n",
      "Collecting types-requests<3.0.0.0,>=2.31.0.2 (from langchainhub)\r\n",
      "  Downloading types_requests-2.31.0.9-py3-none-any.whl.metadata (1.8 kB)\r\n",
      "Requirement already satisfied: charset-normalizer<4,>=2 in /Users/erictak/PycharmProjects/Spotify_2/Mistral7B/lib/python3.10/site-packages (from requests<3,>=2->langchainhub) (3.3.0)\r\n",
      "Requirement already satisfied: idna<4,>=2.5 in /Users/erictak/PycharmProjects/Spotify_2/Mistral7B/lib/python3.10/site-packages (from requests<3,>=2->langchainhub) (3.4)\r\n",
      "Requirement already satisfied: urllib3<3,>=1.21.1 in /Users/erictak/PycharmProjects/Spotify_2/Mistral7B/lib/python3.10/site-packages (from requests<3,>=2->langchainhub) (2.0.6)\r\n",
      "Requirement already satisfied: certifi>=2017.4.17 in /Users/erictak/PycharmProjects/Spotify_2/Mistral7B/lib/python3.10/site-packages (from requests<3,>=2->langchainhub) (2023.7.22)\r\n",
      "Downloading langchainhub-0.1.13-py3-none-any.whl (3.4 kB)\r\n",
      "Downloading types_requests-2.31.0.9-py3-none-any.whl (14 kB)\r\n",
      "Installing collected packages: types-requests, langchainhub\r\n",
      "Successfully installed langchainhub-0.1.13 types-requests-2.31.0.9\r\n",
      "\u001B[33mWARNING: There was an error checking the latest version of pip.\u001B[0m\u001B[33m\r\n",
      "\u001B[0m"
     ]
    }
   ],
   "source": [
    "!pip install langchain\n",
    "!pip install gpt4all\n",
    "!pip install chromadb\n",
    "!pip install langchainhub"
   ],
   "metadata": {
    "collapsed": false,
    "ExecuteTime": {
     "end_time": "2023-10-15T18:50:22.475536Z",
     "start_time": "2023-10-15T18:50:18.072201Z"
    }
   },
   "id": "8cb73ccb9a4d5cec"
  },
  {
   "cell_type": "markdown",
   "source": [
    "# Load data from the web\n",
    "Let's load some data from the web. We will use the BBC article about the Japanese method of upcycling."
   ],
   "metadata": {
    "collapsed": false
   },
   "id": "49be09972d55d455"
  },
  {
   "cell_type": "code",
   "execution_count": 5,
   "id": "initial_id",
   "metadata": {
    "collapsed": true,
    "ExecuteTime": {
     "end_time": "2023-10-15T18:49:26.131164Z",
     "start_time": "2023-10-15T18:49:25.854377Z"
    }
   },
   "outputs": [],
   "source": [
    "from langchain.document_loaders import WebBaseLoader\n",
    "loader = WebBaseLoader(\"https://www.bbc.com/culture/article/20231013-the-300-year-old-japanese-method-of-upcyling\")\n",
    "data = loader.load()"
   ]
  },
  {
   "cell_type": "markdown",
   "source": [
    "# Split into chunks\n",
    "We will split the document into chunks of 1500 characters with 100 characters overlap."
   ],
   "metadata": {
    "collapsed": false
   },
   "id": "c938d6f90190d82d"
  },
  {
   "cell_type": "code",
   "execution_count": 6,
   "outputs": [],
   "source": [
    "# Split into chunks \n",
    "from langchain.text_splitter import RecursiveCharacterTextSplitter\n",
    "text_splitter = RecursiveCharacterTextSplitter(chunk_size=1500, chunk_overlap=100)\n",
    "all_splits = text_splitter.split_documents(data)"
   ],
   "metadata": {
    "collapsed": false,
    "ExecuteTime": {
     "end_time": "2023-10-15T18:49:26.609582Z",
     "start_time": "2023-10-15T18:49:26.606201Z"
    }
   },
   "id": "287c26562103be25"
  },
  {
   "cell_type": "markdown",
   "source": [
    "# Embed and store\n",
    "We will embed the chunks using GPT4AllEmbeddings and store them in a Chroma vectorstore."
   ],
   "metadata": {
    "collapsed": false
   },
   "id": "c37c0476e04f6af9"
  },
  {
   "cell_type": "code",
   "execution_count": 9,
   "outputs": [
    {
     "name": "stdout",
     "output_type": "stream",
     "text": [
      "Found model file at  /Users/erictak/.cache/gpt4all/ggml-all-MiniLM-L6-v2-f16.bin\n"
     ]
    }
   ],
   "source": [
    "# Embed and store\n",
    "from langchain.vectorstores import Chroma\n",
    "from langchain.embeddings import GPT4AllEmbeddings\n",
    "from langchain.embeddings import OllamaEmbeddings # We can also try Ollama embeddings\n",
    "vectorstore = Chroma.from_documents(documents=all_splits,\n",
    "                                    embedding=GPT4AllEmbeddings())"
   ],
   "metadata": {
    "collapsed": false,
    "ExecuteTime": {
     "end_time": "2023-10-15T18:50:00.288172Z",
     "start_time": "2023-10-15T18:49:58.657017Z"
    }
   },
   "id": "1f70a950896c8600"
  },
  {
   "cell_type": "code",
   "execution_count": 12,
   "outputs": [],
   "source": [
    "# RAG prompt\n",
    "from langchain import hub\n",
    "QA_CHAIN_PROMPT = hub.pull(\"rlm/rag-prompt-llama\")"
   ],
   "metadata": {
    "collapsed": false,
    "ExecuteTime": {
     "end_time": "2023-10-15T18:50:25.891098Z",
     "start_time": "2023-10-15T18:50:25.361785Z"
    }
   },
   "id": "20ca4d5607be0a45"
  },
  {
   "cell_type": "markdown",
   "source": [
    "# choose a model\n",
    "We will use the Mistral model from the LLM family."
   ],
   "metadata": {
    "collapsed": false
   },
   "id": "6662d531ff57e02a"
  },
  {
   "cell_type": "code",
   "execution_count": 13,
   "outputs": [],
   "source": [
    "# LLM\n",
    "from langchain.llms import Ollama\n",
    "from langchain.callbacks.manager import CallbackManager\n",
    "from langchain.callbacks.streaming_stdout import StreamingStdOutCallbackHandler\n",
    "llm = Ollama(model=\"mistral\",\n",
    "             verbose=True,\n",
    "             callback_manager=CallbackManager([StreamingStdOutCallbackHandler()]))"
   ],
   "metadata": {
    "collapsed": false,
    "ExecuteTime": {
     "end_time": "2023-10-15T18:50:26.697591Z",
     "start_time": "2023-10-15T18:50:26.687167Z"
    }
   },
   "id": "850aa5c143cdacc0"
  },
  {
   "cell_type": "code",
   "execution_count": 14,
   "outputs": [],
   "source": [
    "# QA chain\n",
    "from langchain.chains import RetrievalQA\n",
    "qa_chain = RetrievalQA.from_chain_type(\n",
    "    llm,\n",
    "    retriever=vectorstore.as_retriever(),\n",
    "    chain_type_kwargs={\"prompt\": QA_CHAIN_PROMPT},\n",
    ")"
   ],
   "metadata": {
    "collapsed": false,
    "ExecuteTime": {
     "end_time": "2023-10-15T18:50:28.872251Z",
     "start_time": "2023-10-15T18:50:27.476700Z"
    }
   },
   "id": "936bb9b3bf95df20"
  },
  {
   "cell_type": "markdown",
   "source": [
    "# Ask a question\n",
    "Let's ask a question about the article."
   ],
   "metadata": {
    "collapsed": false
   },
   "id": "ab8319a15f85714e"
  },
  {
   "cell_type": "code",
   "execution_count": 16,
   "outputs": [
    {
     "name": "stdout",
     "output_type": "stream",
     "text": [
      "The article is about the luxury coat made by Jack Spicer, a Japanese designer. The coat was inspired by the sashiko technique, which involves stitching together small pieces of fabric to create a quilted fabric known as boro. Sashiko emerged during the Edo period in poor rural areas when cotton was scarce and people had to make do with small rags of fabrics. The article highlights the importance of sustainability and slow fashion, with guest panellists Katie Treggiden and Madeleine Michell advocating for clothes repair and visible mending at the Design for Planet Festival.{'model': 'mistral', 'created_at': '2023-10-15T19:02:34.570244Z', 'response': '', 'done': True, 'context': [733, 16289, 28793, 10649, 28747, 733, 16289, 28793, 5275, 18741, 4060, 995, 460, 396, 13892, 354, 2996, 28733, 509, 28727, 2131, 9796, 28723, 5938, 272, 2296, 7769, 302, 17913, 286, 2758, 298, 4372, 272, 2996, 28723, 1047, 368, 949, 28742, 28707, 873, 272, 4372, 28725, 776, 1315, 369, 368, 949, 28742, 28707, 873, 28723, 5938, 1712, 23748, 7228, 304, 1840, 272, 4372, 3078, 864, 26364, 700, 18741, 4060, 28705, 13, 24994, 28747, 1824, 349, 456, 5447, 684, 28804, 28705, 13, 2083, 28747, 1047, 368, 8232, 456, 2838, 28725, 29000, 6301, 582, 354, 272, 16496, 287, 12286, 28723, 675, 4190, 4231, 15867, 28725, 1987, 415, 11299, 2256, 3231, 28723, 330, 1021, 28720, 13371, 7495, 302, 5979, 477, 16309, 18242, 28725, 17796, 28725, 5066, 10387, 304, 17823, 28725, 11448, 298, 574, 297, 2858, 1012, 8085, 28723, 13, 3381, 368, 682, 737, 298, 4517, 356, 456, 2838, 442, 2424, 1112, 368, 506, 2598, 356, 16309, 17796, 28725, 1335, 754, 298, 813, 29000, 19064, 3521, 29000, 3005, 442, 2928, 592, 356, 29000, 21173, 4706, 28723, 24520, 1413, 16880, 24520, 356, 11690, 24520, 356, 8488, 24520, 356, 22675, 262, 24520, 28745, 13, 13, 1014, 28705, 28770, 28734, 28734, 28733, 4395, 28733, 738, 8092, 2038, 302, 582, 21369, 288, 387, 16309, 17796, 13, 13, 13, 13, 13, 13, 13, 13, 13, 13, 13, 13, 13, 13, 13, 13, 13, 13, 13, 13, 13, 13, 13, 13, 13, 13, 13, 13, 13, 13, 13, 13, 13, 13, 13, 13, 13, 13, 6434, 3005, 6169, 3032, 9136, 24322, 298, 3036, 6169, 3032, 15576, 28760, 4738, 11919, 2601, 7467, 14265, 25614, 28735, 483, 2324, 1223, 28710, 7699, 28735, 4647, 28760, 3387, 653, 28743, 3574, 1169, 497, 10957, 4738, 28765, 1004, 14265, 25614, 28735, 483, 1925, 301, 6058, 10387, 1470, 3177, 17147, 24742, 10639, 2324, 1223, 28735, 4647, 15279, 8514, 11147, 16309, 11147, 16309, 6434, 25614, 28735, 483, 2324, 1223, 28710, 7699, 28735, 4647, 28760, 3387, 653, 28743, 3574, 1169, 497, 10957, 4738, 28765, 1004, 14265, 25614, 28735, 483, 1925, 301, 6058, 10387, 1470, 3177, 17147, 24742, 10639, 2324, 1223, 28735, 4647, 8994, 8514, 13, 13, 966, 452, 431, 272, 19942, 2305, 525, 25614, 28735, 483, 2324, 1223, 28710, 7699, 28735, 4647, 28760, 3387, 653, 28743, 3574, 1169, 497, 10957, 4738, 28765, 1004, 14265, 25614, 28735, 483, 1925, 301, 6058, 10387, 1470, 3177, 17147, 24742, 10639, 2324, 1223, 28735, 4647, 11579, 28713, 302, 5938, 22261, 272, 19942, 4100, 814, 2426, 13077, 22548, 2426, 13077, 28743, 600, 497, 28743, 600, 497, 6169, 3032, 15576, 7401, 282, 2480, 313, 617, 18003, 272, 16309, 13806, 396, 26723, 22105, 28760, 4738, 19863, 354, 368, 3261, 2035, 864, 395, 592, 20505, 18675, 28705, 28750, 28734, 28750, 28770, 16309, 28723, 415, 16309, 349, 459, 7332, 354, 272, 3036, 302, 9354, 7363, 28723, 4939, 684, 813, 4431, 298, 9354, 3062, 288, 28723, 13, 13, 3260, 11967, 26095, 11433, 18181, 10276, 28725, 272, 15554, 28742, 28713, 290, 8774, 682, 506, 750, 21011, 1497, 438, 272, 7739, 302, 378, 12445, 356, 272, 3500, 302, 624, 302, 272, 1526, 28742, 28713, 1080, 15374, 25390, 13041, 28713, 28723, 318, 1029, 13370, 16188, 1059, 24581, 28725, 6311, 297, 5366, 13359, 5020, 28725, 1938, 272, 413, 2432, 3216, 28723, 345, 28743, 322, 1158, 1988, 3909, 298, 272, 6120, 302, 4720, 862, 15157, 9949, 304, 2621, 6953, 524, 11541, 320, 1376, 28721, 6667, 28723, 345, 5142, 272, 865, 1069, 905, 829, 625, 2400, 302, 378, 403, 390, 8887, 408, 1787, 302, 7372, 6720, 28725, 369, 654, 2477, 4568, 1401, 442, 7620, 477, 467, 2550, 2129, 477, 272, 6287, 28723, 318, 1029, 13370, 764, 8350, 28725, 464, 28714, 1490, 341, 4737, 28742, 764, 403, 264, 1069, 302, 19135, 544, 1395, 1628, 7769, 778, 264, 526, 2605, 286, 10455, 28725, 2651, 390, 287, 8811, 28725, 369, 682, 1840, 706, 6100, 611, 29000, 29000, 28705, 29000, 28741, 27253, 1294, 28742, 28713, 15554, 764, 442, 949, 2166, 764, 3859, 297, 272, 2597, 3632, 24592, 349, 264, 20497, 2757, 302, 268, 1029, 13370, 9949, 2762, 509, 1557, 325, 28743, 10709, 28747, 5522, 22159, 8770, 302, 3951, 28731, 28796, 11541, 320, 1376, 28721, 6667, 349, 3352, 272, 11683, 3961, 479, 1583, 438, 456, 879, 28809, 28713, 8648, 354, 9116, 299, 10113, 28725, 2267, 395, 16970, 291, 473, 27891, 584, 302, 4409, 3944, 28733, 28722, 7106, 5804, 1791, 529, 28725, 693, 460, 20005, 11881, 1002, 302, 8155, 11701, 304, 9141, 290, 2570, 28723, 415, 14416, 4347, 1633, 456, 879, 438, 272, 27018, 11304, 28725, 2900, 302, 5691, 3663, 7261, 28725, 6194, 28725, 624, 302, 272, 1526, 28742, 28713, 1080, 19318, 9702, 28725, 477, 28705, 28740, 28787, 298, 28705, 28740, 28783, 4527, 28725, 304, 916, 272, 7335, 302, 9215, 3226, 380, 28725, 378, 20566, 298, 24622, 864, 272, 6194, 28742, 28713, 2621, 3618, 298, 521, 570, 8280, 297, 24643, 272, 21809, 11259, 304, 11353, 4423, 1439, 3900, 28723, 2480, 5946, 622, 3934, 477, 5374, 14549, 297, 11755, 2437, 304, 2621, 3154, 356, 13817, 22741, 477, 2887, 4918, 298, 8844, 28725, 304, 1679, 28733, 28720, 1836, 535, 7069, 325, 2594, 626, 1197, 7069, 28731, 298, 28705, 13, 2820, 16981, 28747, 733, 28748, 16289, 28793, 733, 28748, 16289, 28793, 13, 1014, 5447, 349, 684, 272, 17211, 12620, 1269, 486, 4299, 1670, 10408, 28725, 264, 8092, 15914, 28723, 415, 12620, 403, 11971, 486, 272, 268, 1029, 13370, 11108, 28725, 690, 14657, 341, 1986, 288, 2553, 1741, 7769, 302, 10455, 298, 2231, 264, 526, 2605, 286, 10455, 2651, 390, 287, 8811, 28723, 318, 1029, 13370, 16188, 1938, 272, 413, 2432, 3216, 297, 5366, 13359, 5020, 739, 18633, 403, 13356, 358, 304, 905, 553, 298, 1038, 511, 395, 1741, 408, 1787, 302, 7372, 6720, 28723, 415, 5447, 23089, 272, 9545, 302, 11755, 2437, 304, 3944, 8844, 28725, 395, 11683, 3961, 479, 1583, 524, 11541, 320, 1376, 28721, 6667, 304, 16970, 291, 473, 27891, 584, 11881, 1077, 354, 8155, 11701, 304, 9141, 290, 2570, 438, 272, 8648, 354, 9116, 299, 10113, 28723], 'total_duration': 13787762667, 'load_duration': 5541492334, 'prompt_eval_count': 847, 'prompt_eval_duration': 3721746000, 'eval_count': 128, 'eval_duration': 4401383000}\n"
     ]
    }
   ],
   "source": [
    "from langchain.schema import LLMResult\n",
    "from langchain.callbacks.base import BaseCallbackHandler\n",
    "\n",
    "class GenerationStatisticsCallback(BaseCallbackHandler):\n",
    "    def on_llm_end(self, response: LLMResult, **kwargs) -> None:\n",
    "        print(response.generations[0][0].generation_info)\n",
    "        \n",
    "callback_manager = CallbackManager([StreamingStdOutCallbackHandler(), GenerationStatisticsCallback()])\n",
    "\n",
    "llm = Ollama(base_url=\"http://localhost:11434\",\n",
    "             model=\"mistral\",\n",
    "             verbose=True,\n",
    "             callback_manager=callback_manager)\n",
    "\n",
    "qa_chain = RetrievalQA.from_chain_type(\n",
    "    llm,\n",
    "    retriever=vectorstore.as_retriever(),\n",
    "    chain_type_kwargs={\"prompt\": QA_CHAIN_PROMPT},\n",
    ")\n",
    "\n",
    "question = \"What is this article about?\"\n",
    "result = qa_chain({\"query\": question})"
   ],
   "metadata": {
    "collapsed": false,
    "ExecuteTime": {
     "end_time": "2023-10-15T19:02:34.575742Z",
     "start_time": "2023-10-15T19:02:20.760905Z"
    }
   },
   "id": "78344b818b1330c0"
  },
  {
   "cell_type": "code",
   "execution_count": null,
   "outputs": [],
   "source": [],
   "metadata": {
    "collapsed": false
   },
   "id": "d50ffa58ff151667"
  }
 ],
 "metadata": {
  "kernelspec": {
   "display_name": "Python 3",
   "language": "python",
   "name": "python3"
  },
  "language_info": {
   "codemirror_mode": {
    "name": "ipython",
    "version": 2
   },
   "file_extension": ".py",
   "mimetype": "text/x-python",
   "name": "python",
   "nbconvert_exporter": "python",
   "pygments_lexer": "ipython2",
   "version": "2.7.6"
  }
 },
 "nbformat": 4,
 "nbformat_minor": 5
}
