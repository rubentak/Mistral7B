{
 "cells": [
  {
   "cell_type": "markdown",
   "source": [
    "# Langchain RAG with Mistral\n",
    "\n",
    "This notebook is part of a medium article that I wrote about the Mistal 7B model. In this notebook I will show a simple example of how to use the Langchain RAG with the Mistral model. This can also be used with a series of other models from the LLM family. See the table below. \n",
    "\n",
    "First, intall the Mistal 7B model here:\n",
    "\n",
    "## [Mistral 7B](https://ollama.ai/download)\n",
    "\n",
    "## [Medium Article](Link to medium article)"
   ],
   "metadata": {
    "collapsed": false
   },
   "id": "f2833cfac0f89883"
  },
  {
   "cell_type": "code",
   "execution_count": 15,
   "outputs": [
    {
     "name": "stdout",
     "output_type": "stream",
     "text": [
      "Requirement already satisfied: langchain in /Users/erictak/miniconda3/envs/Mistral7B/lib/python3.11/site-packages (0.0.315)\r\n",
      "Requirement already satisfied: PyYAML>=5.3 in /Users/erictak/miniconda3/envs/Mistral7B/lib/python3.11/site-packages (from langchain) (6.0)\r\n",
      "Requirement already satisfied: SQLAlchemy<3,>=1.4 in /Users/erictak/miniconda3/envs/Mistral7B/lib/python3.11/site-packages (from langchain) (2.0.22)\r\n",
      "Requirement already satisfied: aiohttp<4.0.0,>=3.8.3 in /Users/erictak/miniconda3/envs/Mistral7B/lib/python3.11/site-packages (from langchain) (3.8.6)\r\n",
      "Requirement already satisfied: anyio<4.0 in /Users/erictak/miniconda3/envs/Mistral7B/lib/python3.11/site-packages (from langchain) (3.7.1)\r\n",
      "Requirement already satisfied: dataclasses-json<0.7,>=0.5.7 in /Users/erictak/miniconda3/envs/Mistral7B/lib/python3.11/site-packages (from langchain) (0.6.1)\r\n",
      "Requirement already satisfied: jsonpatch<2.0,>=1.33 in /Users/erictak/miniconda3/envs/Mistral7B/lib/python3.11/site-packages (from langchain) (1.33)\r\n",
      "Requirement already satisfied: langsmith<0.1.0,>=0.0.43 in /Users/erictak/miniconda3/envs/Mistral7B/lib/python3.11/site-packages (from langchain) (0.0.44)\r\n",
      "Requirement already satisfied: numpy<2,>=1 in /Users/erictak/miniconda3/envs/Mistral7B/lib/python3.11/site-packages (from langchain) (1.26.1)\r\n",
      "Requirement already satisfied: pydantic<3,>=1 in /Users/erictak/miniconda3/envs/Mistral7B/lib/python3.11/site-packages (from langchain) (2.4.2)\r\n",
      "Requirement already satisfied: requests<3,>=2 in /Users/erictak/miniconda3/envs/Mistral7B/lib/python3.11/site-packages (from langchain) (2.31.0)\r\n",
      "Requirement already satisfied: tenacity<9.0.0,>=8.1.0 in /Users/erictak/miniconda3/envs/Mistral7B/lib/python3.11/site-packages (from langchain) (8.2.3)\r\n",
      "Requirement already satisfied: attrs>=17.3.0 in /Users/erictak/miniconda3/envs/Mistral7B/lib/python3.11/site-packages (from aiohttp<4.0.0,>=3.8.3->langchain) (23.1.0)\r\n",
      "Requirement already satisfied: charset-normalizer<4.0,>=2.0 in /Users/erictak/miniconda3/envs/Mistral7B/lib/python3.11/site-packages (from aiohttp<4.0.0,>=3.8.3->langchain) (2.0.4)\r\n",
      "Requirement already satisfied: multidict<7.0,>=4.5 in /Users/erictak/miniconda3/envs/Mistral7B/lib/python3.11/site-packages (from aiohttp<4.0.0,>=3.8.3->langchain) (6.0.4)\r\n",
      "Requirement already satisfied: async-timeout<5.0,>=4.0.0a3 in /Users/erictak/miniconda3/envs/Mistral7B/lib/python3.11/site-packages (from aiohttp<4.0.0,>=3.8.3->langchain) (4.0.3)\r\n",
      "Requirement already satisfied: yarl<2.0,>=1.0 in /Users/erictak/miniconda3/envs/Mistral7B/lib/python3.11/site-packages (from aiohttp<4.0.0,>=3.8.3->langchain) (1.9.2)\r\n",
      "Requirement already satisfied: frozenlist>=1.1.1 in /Users/erictak/miniconda3/envs/Mistral7B/lib/python3.11/site-packages (from aiohttp<4.0.0,>=3.8.3->langchain) (1.4.0)\r\n",
      "Requirement already satisfied: aiosignal>=1.1.2 in /Users/erictak/miniconda3/envs/Mistral7B/lib/python3.11/site-packages (from aiohttp<4.0.0,>=3.8.3->langchain) (1.3.1)\r\n",
      "Requirement already satisfied: idna>=2.8 in /Users/erictak/miniconda3/envs/Mistral7B/lib/python3.11/site-packages (from anyio<4.0->langchain) (3.4)\r\n",
      "Requirement already satisfied: sniffio>=1.1 in /Users/erictak/miniconda3/envs/Mistral7B/lib/python3.11/site-packages (from anyio<4.0->langchain) (1.2.0)\r\n",
      "Requirement already satisfied: marshmallow<4.0.0,>=3.18.0 in /Users/erictak/miniconda3/envs/Mistral7B/lib/python3.11/site-packages (from dataclasses-json<0.7,>=0.5.7->langchain) (3.20.1)\r\n",
      "Requirement already satisfied: typing-inspect<1,>=0.4.0 in /Users/erictak/miniconda3/envs/Mistral7B/lib/python3.11/site-packages (from dataclasses-json<0.7,>=0.5.7->langchain) (0.9.0)\r\n",
      "Requirement already satisfied: jsonpointer>=1.9 in /Users/erictak/miniconda3/envs/Mistral7B/lib/python3.11/site-packages (from jsonpatch<2.0,>=1.33->langchain) (2.4)\r\n",
      "Requirement already satisfied: annotated-types>=0.4.0 in /Users/erictak/miniconda3/envs/Mistral7B/lib/python3.11/site-packages (from pydantic<3,>=1->langchain) (0.6.0)\r\n",
      "Requirement already satisfied: pydantic-core==2.10.1 in /Users/erictak/miniconda3/envs/Mistral7B/lib/python3.11/site-packages (from pydantic<3,>=1->langchain) (2.10.1)\r\n",
      "Requirement already satisfied: typing-extensions>=4.6.1 in /Users/erictak/miniconda3/envs/Mistral7B/lib/python3.11/site-packages (from pydantic<3,>=1->langchain) (4.7.1)\r\n",
      "Requirement already satisfied: urllib3<3,>=1.21.1 in /Users/erictak/miniconda3/envs/Mistral7B/lib/python3.11/site-packages (from requests<3,>=2->langchain) (2.0.6)\r\n",
      "Requirement already satisfied: certifi>=2017.4.17 in /Users/erictak/miniconda3/envs/Mistral7B/lib/python3.11/site-packages (from requests<3,>=2->langchain) (2023.7.22)\r\n",
      "Requirement already satisfied: greenlet!=0.4.17 in /Users/erictak/miniconda3/envs/Mistral7B/lib/python3.11/site-packages (from SQLAlchemy<3,>=1.4->langchain) (3.0.0)\r\n",
      "Requirement already satisfied: packaging>=17.0 in /Users/erictak/miniconda3/envs/Mistral7B/lib/python3.11/site-packages (from marshmallow<4.0.0,>=3.18.0->dataclasses-json<0.7,>=0.5.7->langchain) (23.1)\r\n",
      "Requirement already satisfied: mypy-extensions>=0.3.0 in /Users/erictak/miniconda3/envs/Mistral7B/lib/python3.11/site-packages (from typing-inspect<1,>=0.4.0->dataclasses-json<0.7,>=0.5.7->langchain) (1.0.0)\r\n",
      "Requirement already satisfied: gpt4all in /Users/erictak/miniconda3/envs/Mistral7B/lib/python3.11/site-packages (1.0.12)\r\n",
      "Requirement already satisfied: requests in /Users/erictak/miniconda3/envs/Mistral7B/lib/python3.11/site-packages (from gpt4all) (2.31.0)\r\n",
      "Requirement already satisfied: tqdm in /Users/erictak/miniconda3/envs/Mistral7B/lib/python3.11/site-packages (from gpt4all) (4.66.1)\r\n",
      "Requirement already satisfied: charset-normalizer<4,>=2 in /Users/erictak/miniconda3/envs/Mistral7B/lib/python3.11/site-packages (from requests->gpt4all) (2.0.4)\r\n",
      "Requirement already satisfied: idna<4,>=2.5 in /Users/erictak/miniconda3/envs/Mistral7B/lib/python3.11/site-packages (from requests->gpt4all) (3.4)\r\n",
      "Requirement already satisfied: urllib3<3,>=1.21.1 in /Users/erictak/miniconda3/envs/Mistral7B/lib/python3.11/site-packages (from requests->gpt4all) (2.0.6)\r\n",
      "Requirement already satisfied: certifi>=2017.4.17 in /Users/erictak/miniconda3/envs/Mistral7B/lib/python3.11/site-packages (from requests->gpt4all) (2023.7.22)\r\n",
      "Requirement already satisfied: chromadb in /Users/erictak/miniconda3/envs/Mistral7B/lib/python3.11/site-packages (0.4.14)\r\n",
      "Requirement already satisfied: requests>=2.28 in /Users/erictak/miniconda3/envs/Mistral7B/lib/python3.11/site-packages (from chromadb) (2.31.0)\r\n",
      "Requirement already satisfied: pydantic>=1.9 in /Users/erictak/miniconda3/envs/Mistral7B/lib/python3.11/site-packages (from chromadb) (2.4.2)\r\n",
      "Requirement already satisfied: chroma-hnswlib==0.7.3 in /Users/erictak/miniconda3/envs/Mistral7B/lib/python3.11/site-packages (from chromadb) (0.7.3)\r\n",
      "Requirement already satisfied: fastapi>=0.95.2 in /Users/erictak/miniconda3/envs/Mistral7B/lib/python3.11/site-packages (from chromadb) (0.103.2)\r\n",
      "Requirement already satisfied: uvicorn[standard]>=0.18.3 in /Users/erictak/miniconda3/envs/Mistral7B/lib/python3.11/site-packages (from chromadb) (0.23.2)\r\n",
      "Requirement already satisfied: posthog>=2.4.0 in /Users/erictak/miniconda3/envs/Mistral7B/lib/python3.11/site-packages (from chromadb) (3.0.2)\r\n",
      "Requirement already satisfied: typing-extensions>=4.5.0 in /Users/erictak/miniconda3/envs/Mistral7B/lib/python3.11/site-packages (from chromadb) (4.7.1)\r\n",
      "Requirement already satisfied: pulsar-client>=3.1.0 in /Users/erictak/miniconda3/envs/Mistral7B/lib/python3.11/site-packages (from chromadb) (3.3.0)\r\n",
      "Requirement already satisfied: onnxruntime>=1.14.1 in /Users/erictak/miniconda3/envs/Mistral7B/lib/python3.11/site-packages (from chromadb) (1.16.1)\r\n",
      "Requirement already satisfied: tokenizers>=0.13.2 in /Users/erictak/miniconda3/envs/Mistral7B/lib/python3.11/site-packages (from chromadb) (0.14.1)\r\n",
      "Requirement already satisfied: pypika>=0.48.9 in /Users/erictak/miniconda3/envs/Mistral7B/lib/python3.11/site-packages (from chromadb) (0.48.9)\r\n",
      "Requirement already satisfied: tqdm>=4.65.0 in /Users/erictak/miniconda3/envs/Mistral7B/lib/python3.11/site-packages (from chromadb) (4.66.1)\r\n",
      "Requirement already satisfied: overrides>=7.3.1 in /Users/erictak/miniconda3/envs/Mistral7B/lib/python3.11/site-packages (from chromadb) (7.4.0)\r\n",
      "Requirement already satisfied: importlib-resources in /Users/erictak/miniconda3/envs/Mistral7B/lib/python3.11/site-packages (from chromadb) (6.1.0)\r\n",
      "Requirement already satisfied: grpcio>=1.58.0 in /Users/erictak/miniconda3/envs/Mistral7B/lib/python3.11/site-packages (from chromadb) (1.59.0)\r\n",
      "Requirement already satisfied: bcrypt>=4.0.1 in /Users/erictak/miniconda3/envs/Mistral7B/lib/python3.11/site-packages (from chromadb) (4.0.1)\r\n",
      "Requirement already satisfied: typer>=0.9.0 in /Users/erictak/miniconda3/envs/Mistral7B/lib/python3.11/site-packages (from chromadb) (0.9.0)\r\n",
      "Requirement already satisfied: numpy>=1.22.5 in /Users/erictak/miniconda3/envs/Mistral7B/lib/python3.11/site-packages (from chromadb) (1.26.1)\r\n",
      "Requirement already satisfied: anyio<4.0.0,>=3.7.1 in /Users/erictak/miniconda3/envs/Mistral7B/lib/python3.11/site-packages (from fastapi>=0.95.2->chromadb) (3.7.1)\r\n",
      "Requirement already satisfied: starlette<0.28.0,>=0.27.0 in /Users/erictak/miniconda3/envs/Mistral7B/lib/python3.11/site-packages (from fastapi>=0.95.2->chromadb) (0.27.0)\r\n",
      "Requirement already satisfied: coloredlogs in /Users/erictak/miniconda3/envs/Mistral7B/lib/python3.11/site-packages (from onnxruntime>=1.14.1->chromadb) (15.0.1)\r\n",
      "Requirement already satisfied: flatbuffers in /Users/erictak/miniconda3/envs/Mistral7B/lib/python3.11/site-packages (from onnxruntime>=1.14.1->chromadb) (23.5.26)\r\n",
      "Requirement already satisfied: packaging in /Users/erictak/miniconda3/envs/Mistral7B/lib/python3.11/site-packages (from onnxruntime>=1.14.1->chromadb) (23.1)\r\n",
      "Requirement already satisfied: protobuf in /Users/erictak/miniconda3/envs/Mistral7B/lib/python3.11/site-packages (from onnxruntime>=1.14.1->chromadb) (4.24.4)\r\n",
      "Requirement already satisfied: sympy in /Users/erictak/miniconda3/envs/Mistral7B/lib/python3.11/site-packages (from onnxruntime>=1.14.1->chromadb) (1.12)\r\n",
      "Requirement already satisfied: six>=1.5 in /Users/erictak/miniconda3/envs/Mistral7B/lib/python3.11/site-packages (from posthog>=2.4.0->chromadb) (1.16.0)\r\n",
      "Requirement already satisfied: monotonic>=1.5 in /Users/erictak/miniconda3/envs/Mistral7B/lib/python3.11/site-packages (from posthog>=2.4.0->chromadb) (1.6)\r\n",
      "Requirement already satisfied: backoff>=1.10.0 in /Users/erictak/miniconda3/envs/Mistral7B/lib/python3.11/site-packages (from posthog>=2.4.0->chromadb) (2.2.1)\r\n",
      "Requirement already satisfied: python-dateutil>2.1 in /Users/erictak/miniconda3/envs/Mistral7B/lib/python3.11/site-packages (from posthog>=2.4.0->chromadb) (2.8.2)\r\n",
      "Requirement already satisfied: certifi in /Users/erictak/miniconda3/envs/Mistral7B/lib/python3.11/site-packages (from pulsar-client>=3.1.0->chromadb) (2023.7.22)\r\n",
      "Requirement already satisfied: annotated-types>=0.4.0 in /Users/erictak/miniconda3/envs/Mistral7B/lib/python3.11/site-packages (from pydantic>=1.9->chromadb) (0.6.0)\r\n",
      "Requirement already satisfied: pydantic-core==2.10.1 in /Users/erictak/miniconda3/envs/Mistral7B/lib/python3.11/site-packages (from pydantic>=1.9->chromadb) (2.10.1)\r\n",
      "Requirement already satisfied: charset-normalizer<4,>=2 in /Users/erictak/miniconda3/envs/Mistral7B/lib/python3.11/site-packages (from requests>=2.28->chromadb) (2.0.4)\r\n",
      "Requirement already satisfied: idna<4,>=2.5 in /Users/erictak/miniconda3/envs/Mistral7B/lib/python3.11/site-packages (from requests>=2.28->chromadb) (3.4)\r\n",
      "Requirement already satisfied: urllib3<3,>=1.21.1 in /Users/erictak/miniconda3/envs/Mistral7B/lib/python3.11/site-packages (from requests>=2.28->chromadb) (2.0.6)\r\n",
      "Requirement already satisfied: huggingface_hub<0.18,>=0.16.4 in /Users/erictak/miniconda3/envs/Mistral7B/lib/python3.11/site-packages (from tokenizers>=0.13.2->chromadb) (0.17.3)\r\n",
      "Requirement already satisfied: click<9.0.0,>=7.1.1 in /Users/erictak/miniconda3/envs/Mistral7B/lib/python3.11/site-packages (from typer>=0.9.0->chromadb) (8.1.7)\r\n",
      "Requirement already satisfied: h11>=0.8 in /Users/erictak/miniconda3/envs/Mistral7B/lib/python3.11/site-packages (from uvicorn[standard]>=0.18.3->chromadb) (0.14.0)\r\n",
      "Requirement already satisfied: httptools>=0.5.0 in /Users/erictak/miniconda3/envs/Mistral7B/lib/python3.11/site-packages (from uvicorn[standard]>=0.18.3->chromadb) (0.6.1)\r\n",
      "Requirement already satisfied: python-dotenv>=0.13 in /Users/erictak/miniconda3/envs/Mistral7B/lib/python3.11/site-packages (from uvicorn[standard]>=0.18.3->chromadb) (1.0.0)\r\n",
      "Requirement already satisfied: pyyaml>=5.1 in /Users/erictak/miniconda3/envs/Mistral7B/lib/python3.11/site-packages (from uvicorn[standard]>=0.18.3->chromadb) (6.0)\r\n",
      "Requirement already satisfied: uvloop!=0.15.0,!=0.15.1,>=0.14.0 in /Users/erictak/miniconda3/envs/Mistral7B/lib/python3.11/site-packages (from uvicorn[standard]>=0.18.3->chromadb) (0.18.0)\r\n",
      "Requirement already satisfied: watchfiles>=0.13 in /Users/erictak/miniconda3/envs/Mistral7B/lib/python3.11/site-packages (from uvicorn[standard]>=0.18.3->chromadb) (0.21.0)\r\n",
      "Requirement already satisfied: websockets>=10.4 in /Users/erictak/miniconda3/envs/Mistral7B/lib/python3.11/site-packages (from uvicorn[standard]>=0.18.3->chromadb) (11.0.3)\r\n",
      "Requirement already satisfied: sniffio>=1.1 in /Users/erictak/miniconda3/envs/Mistral7B/lib/python3.11/site-packages (from anyio<4.0.0,>=3.7.1->fastapi>=0.95.2->chromadb) (1.2.0)\r\n",
      "Requirement already satisfied: filelock in /Users/erictak/miniconda3/envs/Mistral7B/lib/python3.11/site-packages (from huggingface_hub<0.18,>=0.16.4->tokenizers>=0.13.2->chromadb) (3.12.4)\r\n",
      "Requirement already satisfied: fsspec in /Users/erictak/miniconda3/envs/Mistral7B/lib/python3.11/site-packages (from huggingface_hub<0.18,>=0.16.4->tokenizers>=0.13.2->chromadb) (2023.9.2)\r\n",
      "Requirement already satisfied: humanfriendly>=9.1 in /Users/erictak/miniconda3/envs/Mistral7B/lib/python3.11/site-packages (from coloredlogs->onnxruntime>=1.14.1->chromadb) (10.0)\r\n",
      "Requirement already satisfied: mpmath>=0.19 in /Users/erictak/miniconda3/envs/Mistral7B/lib/python3.11/site-packages (from sympy->onnxruntime>=1.14.1->chromadb) (1.3.0)\r\n",
      "Requirement already satisfied: langchainhub in /Users/erictak/miniconda3/envs/Mistral7B/lib/python3.11/site-packages (0.1.13)\r\n",
      "Requirement already satisfied: requests<3,>=2 in /Users/erictak/miniconda3/envs/Mistral7B/lib/python3.11/site-packages (from langchainhub) (2.31.0)\r\n",
      "Requirement already satisfied: types-requests<3.0.0.0,>=2.31.0.2 in /Users/erictak/miniconda3/envs/Mistral7B/lib/python3.11/site-packages (from langchainhub) (2.31.0.9)\r\n",
      "Requirement already satisfied: charset-normalizer<4,>=2 in /Users/erictak/miniconda3/envs/Mistral7B/lib/python3.11/site-packages (from requests<3,>=2->langchainhub) (2.0.4)\r\n",
      "Requirement already satisfied: idna<4,>=2.5 in /Users/erictak/miniconda3/envs/Mistral7B/lib/python3.11/site-packages (from requests<3,>=2->langchainhub) (3.4)\r\n",
      "Requirement already satisfied: urllib3<3,>=1.21.1 in /Users/erictak/miniconda3/envs/Mistral7B/lib/python3.11/site-packages (from requests<3,>=2->langchainhub) (2.0.6)\r\n",
      "Requirement already satisfied: certifi>=2017.4.17 in /Users/erictak/miniconda3/envs/Mistral7B/lib/python3.11/site-packages (from requests<3,>=2->langchainhub) (2023.7.22)\r\n"
     ]
    }
   ],
   "source": [
    "!pip install langchain\n",
    "!pip install gpt4all\n",
    "!pip install chromadb\n",
    "!pip install langchainhub"
   ],
   "metadata": {
    "collapsed": false,
    "ExecuteTime": {
     "end_time": "2023-10-16T21:15:24.939275Z",
     "start_time": "2023-10-16T21:15:18.000130Z"
    }
   },
   "id": "8cb73ccb9a4d5cec"
  },
  {
   "cell_type": "markdown",
   "source": [
    "# Load data from the web\n",
    "Let's load some data from the web. We will use the BBC article about the Japanese method of upcycling."
   ],
   "metadata": {
    "collapsed": false
   },
   "id": "49be09972d55d455"
  },
  {
   "cell_type": "code",
   "execution_count": 28,
   "id": "initial_id",
   "metadata": {
    "collapsed": true,
    "ExecuteTime": {
     "end_time": "2023-10-16T21:42:50.437912Z",
     "start_time": "2023-10-16T21:42:49.979426Z"
    }
   },
   "outputs": [],
   "source": [
    "from langchain.document_loaders import WebBaseLoader\n",
    "loader = WebBaseLoader(\"https://www.bbc.com/culture/article/20231013-the-300-year-old-japanese-method-of-upcyling\")\n",
    "data = loader.load()"
   ]
  },
  {
   "cell_type": "markdown",
   "source": [
    "# Split into chunks\n",
    "We will split the document into chunks of 1500 characters with 100 characters overlap."
   ],
   "metadata": {
    "collapsed": false
   },
   "id": "c938d6f90190d82d"
  },
  {
   "cell_type": "code",
   "execution_count": 29,
   "outputs": [],
   "source": [
    "# Split into chunks \n",
    "from langchain.text_splitter import RecursiveCharacterTextSplitter\n",
    "text_splitter = RecursiveCharacterTextSplitter(chunk_size=1500, chunk_overlap=100)\n",
    "all_splits = text_splitter.split_documents(data)"
   ],
   "metadata": {
    "collapsed": false,
    "ExecuteTime": {
     "end_time": "2023-10-16T21:42:51.355903Z",
     "start_time": "2023-10-16T21:42:51.346354Z"
    }
   },
   "id": "287c26562103be25"
  },
  {
   "cell_type": "markdown",
   "source": [
    "# Embed and store\n",
    "We will embed the chunks using GPT4AllEmbeddings and store them in a Chroma vectorstore."
   ],
   "metadata": {
    "collapsed": false
   },
   "id": "c37c0476e04f6af9"
  },
  {
   "cell_type": "code",
   "execution_count": 30,
   "outputs": [],
   "source": [
    "# Embed and store\n",
    "from langchain.vectorstores import Chroma\n",
    "from langchain.embeddings import GPT4AllEmbeddings\n",
    "from langchain.embeddings import OllamaEmbeddings # We can also try Ollama embeddings\n",
    "vectorstore = Chroma.from_documents(documents=all_splits,\n",
    "                                    embedding=OllamaEmbeddings())"
   ],
   "metadata": {
    "collapsed": false,
    "ExecuteTime": {
     "end_time": "2023-10-16T21:43:12.513497Z",
     "start_time": "2023-10-16T21:42:52.532455Z"
    }
   },
   "id": "1f70a950896c8600"
  },
  {
   "cell_type": "code",
   "execution_count": 31,
   "outputs": [
    {
     "data": {
      "text/plain": "4"
     },
     "execution_count": 31,
     "metadata": {},
     "output_type": "execute_result"
    }
   ],
   "source": [
    "# Retrieve\n",
    "question = \"What is this article about?\"\n",
    "docs = vectorstore.similarity_search(question)\n",
    "len(docs)"
   ],
   "metadata": {
    "collapsed": false,
    "ExecuteTime": {
     "end_time": "2023-10-16T21:43:12.666373Z",
     "start_time": "2023-10-16T21:43:12.516345Z"
    }
   },
   "id": "d6303bb538483e24"
  },
  {
   "cell_type": "code",
   "execution_count": 32,
   "outputs": [],
   "source": [
    "# RAG prompt\n",
    "from langchain import hub\n",
    "QA_CHAIN_PROMPT = hub.pull(\"rlm/rag-prompt-llama\")"
   ],
   "metadata": {
    "collapsed": false,
    "ExecuteTime": {
     "end_time": "2023-10-16T21:43:13.350337Z",
     "start_time": "2023-10-16T21:43:12.665514Z"
    }
   },
   "id": "20ca4d5607be0a45"
  },
  {
   "cell_type": "markdown",
   "source": [
    "# Choose a model\n",
    "We will use the Mistral model from the LLM family."
   ],
   "metadata": {
    "collapsed": false
   },
   "id": "6662d531ff57e02a"
  },
  {
   "cell_type": "code",
   "execution_count": 33,
   "outputs": [],
   "source": [
    "# LLM\n",
    "from langchain.llms import Ollama\n",
    "from langchain.callbacks.manager import CallbackManager\n",
    "from langchain.callbacks.streaming_stdout import StreamingStdOutCallbackHandler\n",
    "llm = Ollama(model=\"mistral\",\n",
    "             verbose=True,\n",
    "             callback_manager=CallbackManager([StreamingStdOutCallbackHandler()]))"
   ],
   "metadata": {
    "collapsed": false,
    "ExecuteTime": {
     "end_time": "2023-10-16T21:43:14.265169Z",
     "start_time": "2023-10-16T21:43:14.258851Z"
    }
   },
   "id": "850aa5c143cdacc0"
  },
  {
   "cell_type": "code",
   "execution_count": 34,
   "outputs": [],
   "source": [
    "# QA chain\n",
    "from langchain.chains import RetrievalQA\n",
    "qa_chain = RetrievalQA.from_chain_type(\n",
    "    llm,\n",
    "    retriever=vectorstore.as_retriever(),\n",
    "    chain_type_kwargs={\"prompt\": QA_CHAIN_PROMPT},\n",
    ")"
   ],
   "metadata": {
    "collapsed": false,
    "ExecuteTime": {
     "end_time": "2023-10-16T21:43:15.272540Z",
     "start_time": "2023-10-16T21:43:15.267220Z"
    }
   },
   "id": "936bb9b3bf95df20"
  },
  {
   "cell_type": "code",
   "execution_count": 35,
   "outputs": [
    {
     "name": "stdout",
     "output_type": "stream",
     "text": [
      "This article is about patching and mending fabrics, specifically providing tips for selecting patching fabric that is the same weight or even slightly thinner than the fabric being repaired. The advice is based on avoiding rubbing or feeling stiffness when repairing the fabric, according to Jessica Smulders Cohen."
     ]
    }
   ],
   "source": [
    "question = \"What is this article about?\"\n",
    "result = qa_chain({\"query\": question})"
   ],
   "metadata": {
    "collapsed": false,
    "ExecuteTime": {
     "end_time": "2023-10-16T21:43:24.853027Z",
     "start_time": "2023-10-16T21:43:16.055803Z"
    }
   },
   "id": "89df58d6af644051"
  },
  {
   "cell_type": "markdown",
   "source": [
    "# Ask a question\n",
    "Let's ask a question about the article."
   ],
   "metadata": {
    "collapsed": false
   },
   "id": "ab8319a15f85714e"
  },
  {
   "cell_type": "code",
   "execution_count": 38,
   "outputs": [
    {
     "name": "stdout",
     "output_type": "stream",
     "text": [
      "The technic mentioned in the article is patching fabric repair, where the weight of the patching fabric should be the same or slightly thinner than the fabric being mended to avoid rubbing and feeling stiff.{'model': 'mistral', 'created_at': '2023-10-16T21:45:39.717684Z', 'response': '', 'done': True, 'context': [733, 16289, 28793, 10649, 28747, 733, 16289, 28793, 5275, 18741, 4060, 995, 460, 396, 13892, 354, 2996, 28733, 509, 28727, 2131, 9796, 28723, 5938, 272, 2296, 7769, 302, 17913, 286, 2758, 298, 4372, 272, 2996, 28723, 1047, 368, 949, 28742, 28707, 873, 272, 4372, 28725, 776, 1315, 369, 368, 949, 28742, 28707, 873, 28723, 5938, 1712, 23748, 7228, 304, 1840, 272, 4372, 3078, 864, 26364, 700, 18741, 4060, 28705, 13, 24994, 28747, 1824, 349, 272, 2412, 294, 7083, 297, 272, 5447, 28804, 28705, 13, 2083, 28747, 387, 29000, 29000, 29000, 29000, 29000, 29000, 29000, 29000, 29000, 6746, 1864, 574, 11780, 288, 10455, 349, 272, 1348, 4336, 442, 1019, 7191, 306, 3739, 821, 272, 10455, 368, 28809, 267, 290, 2570, 28723, 345, 1976, 949, 28809, 28707, 947, 378, 298, 7294, 442, 298, 1601, 16516, 862, 2627, 24062, 3539, 353, 10802, 28611, 28723, 13, 13, 28733, 29000, 29000, 29000, 29000, 29000, 29000, 29000, 29000, 29000, 6746, 1864, 574, 11780, 288, 10455, 349, 272, 1348, 4336, 442, 1019, 7191, 306, 3739, 821, 272, 10455, 368, 28809, 267, 290, 2570, 28723, 345, 1976, 949, 28809, 28707, 947, 378, 298, 7294, 442, 298, 1601, 16516, 862, 2627, 24062, 3539, 353, 10802, 28611, 28723, 13, 13, 28733, 29000, 29000, 29000, 29000, 29000, 29000, 29000, 29000, 29000, 6746, 1864, 574, 11780, 288, 10455, 349, 272, 1348, 4336, 442, 1019, 7191, 306, 3739, 821, 272, 10455, 368, 28809, 267, 290, 2570, 28723, 345, 1976, 949, 28809, 28707, 947, 378, 298, 7294, 442, 298, 1601, 16516, 862, 2627, 24062, 3539, 353, 10802, 28611, 28723, 13, 13, 28733, 29000, 29000, 29000, 29000, 29000, 29000, 29000, 29000, 29000, 6746, 1864, 574, 11780, 288, 10455, 349, 272, 1348, 4336, 442, 1019, 7191, 306, 3739, 821, 272, 10455, 368, 28809, 267, 290, 2570, 28723, 345, 1976, 949, 28809, 28707, 947, 378, 298, 7294, 442, 298, 1601, 16516, 862, 2627, 24062, 3539, 353, 10802, 28611, 28723, 28705, 13, 2820, 16981, 28747, 733, 28748, 16289, 28793, 733, 28748, 16289, 28793, 13, 1014, 2412, 294, 7083, 297, 272, 5447, 349, 11780, 288, 10455, 11701, 28725, 970, 272, 4336, 302, 272, 11780, 288, 10455, 1023, 347, 272, 1348, 442, 7191, 306, 3739, 821, 272, 10455, 1250, 290, 2508, 298, 4461, 7294, 7551, 304, 4622, 16516, 28723], 'total_duration': 6427743291, 'load_duration': 3537582791, 'prompt_eval_count': 327, 'prompt_eval_duration': 1501316000, 'eval_count': 43, 'eval_duration': 1334882000}\n"
     ]
    }
   ],
   "source": [
    "from langchain.schema import LLMResult\n",
    "from langchain.callbacks.base import BaseCallbackHandler\n",
    "\n",
    "class GenerationStatisticsCallback(BaseCallbackHandler):\n",
    "    def on_llm_end(self, response: LLMResult, **kwargs) -> None:\n",
    "        print(response.generations[0][0].generation_info)\n",
    "        \n",
    "callback_manager = CallbackManager([StreamingStdOutCallbackHandler(), GenerationStatisticsCallback()])\n",
    "\n",
    "llm = Ollama(base_url=\"http://localhost:11434\",\n",
    "             model=\"mistral\",\n",
    "             verbose=True,\n",
    "             callback_manager=callback_manager)\n",
    "\n",
    "qa_chain = RetrievalQA.from_chain_type(\n",
    "    llm,\n",
    "    retriever=vectorstore.as_retriever(),\n",
    "    chain_type_kwargs={\"prompt\": QA_CHAIN_PROMPT},\n",
    ")\n",
    "\n",
    "question = \"What is the technic mentioned in the article?\"\n",
    "result = qa_chain({\"query\": question})"
   ],
   "metadata": {
    "collapsed": false,
    "ExecuteTime": {
     "end_time": "2023-10-16T21:45:39.723786Z",
     "start_time": "2023-10-16T21:45:28.687568Z"
    }
   },
   "id": "78344b818b1330c0"
  },
  {
   "cell_type": "code",
   "execution_count": 37,
   "outputs": [
    {
     "name": "stdout",
     "output_type": "stream",
     "text": [
      "I'm sorry, but I couldn't find any previous question for context. Could you please provide me with a specific question that you would like me to answer?{'model': 'mistral', 'created_at': '2023-10-16T21:44:24.396601Z', 'response': '', 'done': True, 'context': [733, 16289, 28793, 10649, 28747, 733, 16289, 28793, 5275, 18741, 4060, 995, 460, 396, 13892, 354, 2996, 28733, 509, 28727, 2131, 9796, 28723, 5938, 272, 2296, 7769, 302, 17913, 286, 2758, 298, 4372, 272, 2996, 28723, 1047, 368, 949, 28742, 28707, 873, 272, 4372, 28725, 776, 1315, 369, 368, 949, 28742, 28707, 873, 28723, 5938, 1712, 23748, 7228, 304, 1840, 272, 4372, 3078, 864, 26364, 700, 18741, 4060, 28705, 13, 24994, 28747, 1824, 403, 272, 4494, 2996, 28804, 28705, 13, 2083, 28747, 387, 29000, 29000, 29000, 29000, 29000, 29000, 29000, 29000, 29000, 6746, 1864, 574, 11780, 288, 10455, 349, 272, 1348, 4336, 442, 1019, 7191, 306, 3739, 821, 272, 10455, 368, 28809, 267, 290, 2570, 28723, 345, 1976, 949, 28809, 28707, 947, 378, 298, 7294, 442, 298, 1601, 16516, 862, 2627, 24062, 3539, 353, 10802, 28611, 28723, 13, 13, 28733, 29000, 29000, 29000, 29000, 29000, 29000, 29000, 29000, 29000, 6746, 1864, 574, 11780, 288, 10455, 349, 272, 1348, 4336, 442, 1019, 7191, 306, 3739, 821, 272, 10455, 368, 28809, 267, 290, 2570, 28723, 345, 1976, 949, 28809, 28707, 947, 378, 298, 7294, 442, 298, 1601, 16516, 862, 2627, 24062, 3539, 353, 10802, 28611, 28723, 13, 13, 28733, 29000, 29000, 29000, 29000, 29000, 29000, 29000, 29000, 29000, 6746, 1864, 574, 11780, 288, 10455, 349, 272, 1348, 4336, 442, 1019, 7191, 306, 3739, 821, 272, 10455, 368, 28809, 267, 290, 2570, 28723, 345, 1976, 949, 28809, 28707, 947, 378, 298, 7294, 442, 298, 1601, 16516, 862, 2627, 24062, 3539, 353, 10802, 28611, 28723, 13, 13, 28733, 29000, 29000, 29000, 29000, 29000, 29000, 29000, 29000, 29000, 6746, 1864, 574, 11780, 288, 10455, 349, 272, 1348, 4336, 442, 1019, 7191, 306, 3739, 821, 272, 10455, 368, 28809, 267, 290, 2570, 28723, 345, 1976, 949, 28809, 28707, 947, 378, 298, 7294, 442, 298, 1601, 16516, 862, 2627, 24062, 3539, 353, 10802, 28611, 28723, 28705, 13, 2820, 16981, 28747, 733, 28748, 16289, 28793, 733, 28748, 16289, 28793, 13, 28737, 28742, 28719, 7371, 28725, 562, 315, 3481, 28742, 28707, 1300, 707, 3454, 2996, 354, 2758, 28723, 13955, 368, 4665, 3084, 528, 395, 264, 2948, 2996, 369, 368, 682, 737, 528, 298, 4372, 28804], 'total_duration': 6316155208, 'load_duration': 3734739625, 'prompt_eval_count': 323, 'prompt_eval_duration': 1488754000, 'eval_count': 34, 'eval_duration': 1057275000}\n"
     ]
    }
   ],
   "source": [
    "question = \"What was the former question?\"\n",
    "result = qa_chain({\"query\": question})"
   ],
   "metadata": {
    "collapsed": false,
    "ExecuteTime": {
     "end_time": "2023-10-16T21:44:24.403737Z",
     "start_time": "2023-10-16T21:44:13.181583Z"
    }
   },
   "id": "d50ffa58ff151667"
  },
  {
   "cell_type": "code",
   "execution_count": null,
   "outputs": [],
   "source": [],
   "metadata": {
    "collapsed": false
   },
   "id": "753657cb7a52eb66"
  }
 ],
 "metadata": {
  "kernelspec": {
   "display_name": "Python 3",
   "language": "python",
   "name": "python3"
  },
  "language_info": {
   "codemirror_mode": {
    "name": "ipython",
    "version": 2
   },
   "file_extension": ".py",
   "mimetype": "text/x-python",
   "name": "python",
   "nbconvert_exporter": "python",
   "pygments_lexer": "ipython2",
   "version": "2.7.6"
  }
 },
 "nbformat": 4,
 "nbformat_minor": 5
}
