{
 "cells": [
  {
   "cell_type": "markdown",
   "source": [
    "# Langchain RAG with Mistral\n",
    "\n",
    "This notebook is part of a medium article that I wrote about the Mistal 7B model. In this notebook I will show a simple example of how to use the Langchain RAG with the Mistral model. This can also be used with a series of other models from the LLM family. See the table below. \n",
    "\n",
    "First, intall the Mistal 7B model here:\n",
    "\n",
    "## [Mistral 7B](https://ollama.ai/download)\n",
    "\n",
    "## [Medium Article](Link to medium article)"
   ],
   "metadata": {
    "collapsed": false
   },
   "id": "f2833cfac0f89883"
  },
  {
   "cell_type": "code",
   "execution_count": 15,
   "outputs": [
    {
     "name": "stdout",
     "output_type": "stream",
     "text": [
      "Requirement already satisfied: langchain in /Users/erictak/miniconda3/envs/Mistral7B/lib/python3.11/site-packages (0.0.315)\r\n",
      "Requirement already satisfied: PyYAML>=5.3 in /Users/erictak/miniconda3/envs/Mistral7B/lib/python3.11/site-packages (from langchain) (6.0)\r\n",
      "Requirement already satisfied: SQLAlchemy<3,>=1.4 in /Users/erictak/miniconda3/envs/Mistral7B/lib/python3.11/site-packages (from langchain) (2.0.22)\r\n",
      "Requirement already satisfied: aiohttp<4.0.0,>=3.8.3 in /Users/erictak/miniconda3/envs/Mistral7B/lib/python3.11/site-packages (from langchain) (3.8.6)\r\n",
      "Requirement already satisfied: anyio<4.0 in /Users/erictak/miniconda3/envs/Mistral7B/lib/python3.11/site-packages (from langchain) (3.7.1)\r\n",
      "Requirement already satisfied: dataclasses-json<0.7,>=0.5.7 in /Users/erictak/miniconda3/envs/Mistral7B/lib/python3.11/site-packages (from langchain) (0.6.1)\r\n",
      "Requirement already satisfied: jsonpatch<2.0,>=1.33 in /Users/erictak/miniconda3/envs/Mistral7B/lib/python3.11/site-packages (from langchain) (1.33)\r\n",
      "Requirement already satisfied: langsmith<0.1.0,>=0.0.43 in /Users/erictak/miniconda3/envs/Mistral7B/lib/python3.11/site-packages (from langchain) (0.0.44)\r\n",
      "Requirement already satisfied: numpy<2,>=1 in /Users/erictak/miniconda3/envs/Mistral7B/lib/python3.11/site-packages (from langchain) (1.26.1)\r\n",
      "Requirement already satisfied: pydantic<3,>=1 in /Users/erictak/miniconda3/envs/Mistral7B/lib/python3.11/site-packages (from langchain) (2.4.2)\r\n",
      "Requirement already satisfied: requests<3,>=2 in /Users/erictak/miniconda3/envs/Mistral7B/lib/python3.11/site-packages (from langchain) (2.31.0)\r\n",
      "Requirement already satisfied: tenacity<9.0.0,>=8.1.0 in /Users/erictak/miniconda3/envs/Mistral7B/lib/python3.11/site-packages (from langchain) (8.2.3)\r\n",
      "Requirement already satisfied: attrs>=17.3.0 in /Users/erictak/miniconda3/envs/Mistral7B/lib/python3.11/site-packages (from aiohttp<4.0.0,>=3.8.3->langchain) (23.1.0)\r\n",
      "Requirement already satisfied: charset-normalizer<4.0,>=2.0 in /Users/erictak/miniconda3/envs/Mistral7B/lib/python3.11/site-packages (from aiohttp<4.0.0,>=3.8.3->langchain) (2.0.4)\r\n",
      "Requirement already satisfied: multidict<7.0,>=4.5 in /Users/erictak/miniconda3/envs/Mistral7B/lib/python3.11/site-packages (from aiohttp<4.0.0,>=3.8.3->langchain) (6.0.4)\r\n",
      "Requirement already satisfied: async-timeout<5.0,>=4.0.0a3 in /Users/erictak/miniconda3/envs/Mistral7B/lib/python3.11/site-packages (from aiohttp<4.0.0,>=3.8.3->langchain) (4.0.3)\r\n",
      "Requirement already satisfied: yarl<2.0,>=1.0 in /Users/erictak/miniconda3/envs/Mistral7B/lib/python3.11/site-packages (from aiohttp<4.0.0,>=3.8.3->langchain) (1.9.2)\r\n",
      "Requirement already satisfied: frozenlist>=1.1.1 in /Users/erictak/miniconda3/envs/Mistral7B/lib/python3.11/site-packages (from aiohttp<4.0.0,>=3.8.3->langchain) (1.4.0)\r\n",
      "Requirement already satisfied: aiosignal>=1.1.2 in /Users/erictak/miniconda3/envs/Mistral7B/lib/python3.11/site-packages (from aiohttp<4.0.0,>=3.8.3->langchain) (1.3.1)\r\n",
      "Requirement already satisfied: idna>=2.8 in /Users/erictak/miniconda3/envs/Mistral7B/lib/python3.11/site-packages (from anyio<4.0->langchain) (3.4)\r\n",
      "Requirement already satisfied: sniffio>=1.1 in /Users/erictak/miniconda3/envs/Mistral7B/lib/python3.11/site-packages (from anyio<4.0->langchain) (1.2.0)\r\n",
      "Requirement already satisfied: marshmallow<4.0.0,>=3.18.0 in /Users/erictak/miniconda3/envs/Mistral7B/lib/python3.11/site-packages (from dataclasses-json<0.7,>=0.5.7->langchain) (3.20.1)\r\n",
      "Requirement already satisfied: typing-inspect<1,>=0.4.0 in /Users/erictak/miniconda3/envs/Mistral7B/lib/python3.11/site-packages (from dataclasses-json<0.7,>=0.5.7->langchain) (0.9.0)\r\n",
      "Requirement already satisfied: jsonpointer>=1.9 in /Users/erictak/miniconda3/envs/Mistral7B/lib/python3.11/site-packages (from jsonpatch<2.0,>=1.33->langchain) (2.4)\r\n",
      "Requirement already satisfied: annotated-types>=0.4.0 in /Users/erictak/miniconda3/envs/Mistral7B/lib/python3.11/site-packages (from pydantic<3,>=1->langchain) (0.6.0)\r\n",
      "Requirement already satisfied: pydantic-core==2.10.1 in /Users/erictak/miniconda3/envs/Mistral7B/lib/python3.11/site-packages (from pydantic<3,>=1->langchain) (2.10.1)\r\n",
      "Requirement already satisfied: typing-extensions>=4.6.1 in /Users/erictak/miniconda3/envs/Mistral7B/lib/python3.11/site-packages (from pydantic<3,>=1->langchain) (4.7.1)\r\n",
      "Requirement already satisfied: urllib3<3,>=1.21.1 in /Users/erictak/miniconda3/envs/Mistral7B/lib/python3.11/site-packages (from requests<3,>=2->langchain) (2.0.6)\r\n",
      "Requirement already satisfied: certifi>=2017.4.17 in /Users/erictak/miniconda3/envs/Mistral7B/lib/python3.11/site-packages (from requests<3,>=2->langchain) (2023.7.22)\r\n",
      "Requirement already satisfied: greenlet!=0.4.17 in /Users/erictak/miniconda3/envs/Mistral7B/lib/python3.11/site-packages (from SQLAlchemy<3,>=1.4->langchain) (3.0.0)\r\n",
      "Requirement already satisfied: packaging>=17.0 in /Users/erictak/miniconda3/envs/Mistral7B/lib/python3.11/site-packages (from marshmallow<4.0.0,>=3.18.0->dataclasses-json<0.7,>=0.5.7->langchain) (23.1)\r\n",
      "Requirement already satisfied: mypy-extensions>=0.3.0 in /Users/erictak/miniconda3/envs/Mistral7B/lib/python3.11/site-packages (from typing-inspect<1,>=0.4.0->dataclasses-json<0.7,>=0.5.7->langchain) (1.0.0)\r\n",
      "Requirement already satisfied: gpt4all in /Users/erictak/miniconda3/envs/Mistral7B/lib/python3.11/site-packages (1.0.12)\r\n",
      "Requirement already satisfied: requests in /Users/erictak/miniconda3/envs/Mistral7B/lib/python3.11/site-packages (from gpt4all) (2.31.0)\r\n",
      "Requirement already satisfied: tqdm in /Users/erictak/miniconda3/envs/Mistral7B/lib/python3.11/site-packages (from gpt4all) (4.66.1)\r\n",
      "Requirement already satisfied: charset-normalizer<4,>=2 in /Users/erictak/miniconda3/envs/Mistral7B/lib/python3.11/site-packages (from requests->gpt4all) (2.0.4)\r\n",
      "Requirement already satisfied: idna<4,>=2.5 in /Users/erictak/miniconda3/envs/Mistral7B/lib/python3.11/site-packages (from requests->gpt4all) (3.4)\r\n",
      "Requirement already satisfied: urllib3<3,>=1.21.1 in /Users/erictak/miniconda3/envs/Mistral7B/lib/python3.11/site-packages (from requests->gpt4all) (2.0.6)\r\n",
      "Requirement already satisfied: certifi>=2017.4.17 in /Users/erictak/miniconda3/envs/Mistral7B/lib/python3.11/site-packages (from requests->gpt4all) (2023.7.22)\r\n",
      "Requirement already satisfied: chromadb in /Users/erictak/miniconda3/envs/Mistral7B/lib/python3.11/site-packages (0.4.14)\r\n",
      "Requirement already satisfied: requests>=2.28 in /Users/erictak/miniconda3/envs/Mistral7B/lib/python3.11/site-packages (from chromadb) (2.31.0)\r\n",
      "Requirement already satisfied: pydantic>=1.9 in /Users/erictak/miniconda3/envs/Mistral7B/lib/python3.11/site-packages (from chromadb) (2.4.2)\r\n",
      "Requirement already satisfied: chroma-hnswlib==0.7.3 in /Users/erictak/miniconda3/envs/Mistral7B/lib/python3.11/site-packages (from chromadb) (0.7.3)\r\n",
      "Requirement already satisfied: fastapi>=0.95.2 in /Users/erictak/miniconda3/envs/Mistral7B/lib/python3.11/site-packages (from chromadb) (0.103.2)\r\n",
      "Requirement already satisfied: uvicorn[standard]>=0.18.3 in /Users/erictak/miniconda3/envs/Mistral7B/lib/python3.11/site-packages (from chromadb) (0.23.2)\r\n",
      "Requirement already satisfied: posthog>=2.4.0 in /Users/erictak/miniconda3/envs/Mistral7B/lib/python3.11/site-packages (from chromadb) (3.0.2)\r\n",
      "Requirement already satisfied: typing-extensions>=4.5.0 in /Users/erictak/miniconda3/envs/Mistral7B/lib/python3.11/site-packages (from chromadb) (4.7.1)\r\n",
      "Requirement already satisfied: pulsar-client>=3.1.0 in /Users/erictak/miniconda3/envs/Mistral7B/lib/python3.11/site-packages (from chromadb) (3.3.0)\r\n",
      "Requirement already satisfied: onnxruntime>=1.14.1 in /Users/erictak/miniconda3/envs/Mistral7B/lib/python3.11/site-packages (from chromadb) (1.16.1)\r\n",
      "Requirement already satisfied: tokenizers>=0.13.2 in /Users/erictak/miniconda3/envs/Mistral7B/lib/python3.11/site-packages (from chromadb) (0.14.1)\r\n",
      "Requirement already satisfied: pypika>=0.48.9 in /Users/erictak/miniconda3/envs/Mistral7B/lib/python3.11/site-packages (from chromadb) (0.48.9)\r\n",
      "Requirement already satisfied: tqdm>=4.65.0 in /Users/erictak/miniconda3/envs/Mistral7B/lib/python3.11/site-packages (from chromadb) (4.66.1)\r\n",
      "Requirement already satisfied: overrides>=7.3.1 in /Users/erictak/miniconda3/envs/Mistral7B/lib/python3.11/site-packages (from chromadb) (7.4.0)\r\n",
      "Requirement already satisfied: importlib-resources in /Users/erictak/miniconda3/envs/Mistral7B/lib/python3.11/site-packages (from chromadb) (6.1.0)\r\n",
      "Requirement already satisfied: grpcio>=1.58.0 in /Users/erictak/miniconda3/envs/Mistral7B/lib/python3.11/site-packages (from chromadb) (1.59.0)\r\n",
      "Requirement already satisfied: bcrypt>=4.0.1 in /Users/erictak/miniconda3/envs/Mistral7B/lib/python3.11/site-packages (from chromadb) (4.0.1)\r\n",
      "Requirement already satisfied: typer>=0.9.0 in /Users/erictak/miniconda3/envs/Mistral7B/lib/python3.11/site-packages (from chromadb) (0.9.0)\r\n",
      "Requirement already satisfied: numpy>=1.22.5 in /Users/erictak/miniconda3/envs/Mistral7B/lib/python3.11/site-packages (from chromadb) (1.26.1)\r\n",
      "Requirement already satisfied: anyio<4.0.0,>=3.7.1 in /Users/erictak/miniconda3/envs/Mistral7B/lib/python3.11/site-packages (from fastapi>=0.95.2->chromadb) (3.7.1)\r\n",
      "Requirement already satisfied: starlette<0.28.0,>=0.27.0 in /Users/erictak/miniconda3/envs/Mistral7B/lib/python3.11/site-packages (from fastapi>=0.95.2->chromadb) (0.27.0)\r\n",
      "Requirement already satisfied: coloredlogs in /Users/erictak/miniconda3/envs/Mistral7B/lib/python3.11/site-packages (from onnxruntime>=1.14.1->chromadb) (15.0.1)\r\n",
      "Requirement already satisfied: flatbuffers in /Users/erictak/miniconda3/envs/Mistral7B/lib/python3.11/site-packages (from onnxruntime>=1.14.1->chromadb) (23.5.26)\r\n",
      "Requirement already satisfied: packaging in /Users/erictak/miniconda3/envs/Mistral7B/lib/python3.11/site-packages (from onnxruntime>=1.14.1->chromadb) (23.1)\r\n",
      "Requirement already satisfied: protobuf in /Users/erictak/miniconda3/envs/Mistral7B/lib/python3.11/site-packages (from onnxruntime>=1.14.1->chromadb) (4.24.4)\r\n",
      "Requirement already satisfied: sympy in /Users/erictak/miniconda3/envs/Mistral7B/lib/python3.11/site-packages (from onnxruntime>=1.14.1->chromadb) (1.12)\r\n",
      "Requirement already satisfied: six>=1.5 in /Users/erictak/miniconda3/envs/Mistral7B/lib/python3.11/site-packages (from posthog>=2.4.0->chromadb) (1.16.0)\r\n",
      "Requirement already satisfied: monotonic>=1.5 in /Users/erictak/miniconda3/envs/Mistral7B/lib/python3.11/site-packages (from posthog>=2.4.0->chromadb) (1.6)\r\n",
      "Requirement already satisfied: backoff>=1.10.0 in /Users/erictak/miniconda3/envs/Mistral7B/lib/python3.11/site-packages (from posthog>=2.4.0->chromadb) (2.2.1)\r\n",
      "Requirement already satisfied: python-dateutil>2.1 in /Users/erictak/miniconda3/envs/Mistral7B/lib/python3.11/site-packages (from posthog>=2.4.0->chromadb) (2.8.2)\r\n",
      "Requirement already satisfied: certifi in /Users/erictak/miniconda3/envs/Mistral7B/lib/python3.11/site-packages (from pulsar-client>=3.1.0->chromadb) (2023.7.22)\r\n",
      "Requirement already satisfied: annotated-types>=0.4.0 in /Users/erictak/miniconda3/envs/Mistral7B/lib/python3.11/site-packages (from pydantic>=1.9->chromadb) (0.6.0)\r\n",
      "Requirement already satisfied: pydantic-core==2.10.1 in /Users/erictak/miniconda3/envs/Mistral7B/lib/python3.11/site-packages (from pydantic>=1.9->chromadb) (2.10.1)\r\n",
      "Requirement already satisfied: charset-normalizer<4,>=2 in /Users/erictak/miniconda3/envs/Mistral7B/lib/python3.11/site-packages (from requests>=2.28->chromadb) (2.0.4)\r\n",
      "Requirement already satisfied: idna<4,>=2.5 in /Users/erictak/miniconda3/envs/Mistral7B/lib/python3.11/site-packages (from requests>=2.28->chromadb) (3.4)\r\n",
      "Requirement already satisfied: urllib3<3,>=1.21.1 in /Users/erictak/miniconda3/envs/Mistral7B/lib/python3.11/site-packages (from requests>=2.28->chromadb) (2.0.6)\r\n",
      "Requirement already satisfied: huggingface_hub<0.18,>=0.16.4 in /Users/erictak/miniconda3/envs/Mistral7B/lib/python3.11/site-packages (from tokenizers>=0.13.2->chromadb) (0.17.3)\r\n",
      "Requirement already satisfied: click<9.0.0,>=7.1.1 in /Users/erictak/miniconda3/envs/Mistral7B/lib/python3.11/site-packages (from typer>=0.9.0->chromadb) (8.1.7)\r\n",
      "Requirement already satisfied: h11>=0.8 in /Users/erictak/miniconda3/envs/Mistral7B/lib/python3.11/site-packages (from uvicorn[standard]>=0.18.3->chromadb) (0.14.0)\r\n",
      "Requirement already satisfied: httptools>=0.5.0 in /Users/erictak/miniconda3/envs/Mistral7B/lib/python3.11/site-packages (from uvicorn[standard]>=0.18.3->chromadb) (0.6.1)\r\n",
      "Requirement already satisfied: python-dotenv>=0.13 in /Users/erictak/miniconda3/envs/Mistral7B/lib/python3.11/site-packages (from uvicorn[standard]>=0.18.3->chromadb) (1.0.0)\r\n",
      "Requirement already satisfied: pyyaml>=5.1 in /Users/erictak/miniconda3/envs/Mistral7B/lib/python3.11/site-packages (from uvicorn[standard]>=0.18.3->chromadb) (6.0)\r\n",
      "Requirement already satisfied: uvloop!=0.15.0,!=0.15.1,>=0.14.0 in /Users/erictak/miniconda3/envs/Mistral7B/lib/python3.11/site-packages (from uvicorn[standard]>=0.18.3->chromadb) (0.18.0)\r\n",
      "Requirement already satisfied: watchfiles>=0.13 in /Users/erictak/miniconda3/envs/Mistral7B/lib/python3.11/site-packages (from uvicorn[standard]>=0.18.3->chromadb) (0.21.0)\r\n",
      "Requirement already satisfied: websockets>=10.4 in /Users/erictak/miniconda3/envs/Mistral7B/lib/python3.11/site-packages (from uvicorn[standard]>=0.18.3->chromadb) (11.0.3)\r\n",
      "Requirement already satisfied: sniffio>=1.1 in /Users/erictak/miniconda3/envs/Mistral7B/lib/python3.11/site-packages (from anyio<4.0.0,>=3.7.1->fastapi>=0.95.2->chromadb) (1.2.0)\r\n",
      "Requirement already satisfied: filelock in /Users/erictak/miniconda3/envs/Mistral7B/lib/python3.11/site-packages (from huggingface_hub<0.18,>=0.16.4->tokenizers>=0.13.2->chromadb) (3.12.4)\r\n",
      "Requirement already satisfied: fsspec in /Users/erictak/miniconda3/envs/Mistral7B/lib/python3.11/site-packages (from huggingface_hub<0.18,>=0.16.4->tokenizers>=0.13.2->chromadb) (2023.9.2)\r\n",
      "Requirement already satisfied: humanfriendly>=9.1 in /Users/erictak/miniconda3/envs/Mistral7B/lib/python3.11/site-packages (from coloredlogs->onnxruntime>=1.14.1->chromadb) (10.0)\r\n",
      "Requirement already satisfied: mpmath>=0.19 in /Users/erictak/miniconda3/envs/Mistral7B/lib/python3.11/site-packages (from sympy->onnxruntime>=1.14.1->chromadb) (1.3.0)\r\n",
      "Requirement already satisfied: langchainhub in /Users/erictak/miniconda3/envs/Mistral7B/lib/python3.11/site-packages (0.1.13)\r\n",
      "Requirement already satisfied: requests<3,>=2 in /Users/erictak/miniconda3/envs/Mistral7B/lib/python3.11/site-packages (from langchainhub) (2.31.0)\r\n",
      "Requirement already satisfied: types-requests<3.0.0.0,>=2.31.0.2 in /Users/erictak/miniconda3/envs/Mistral7B/lib/python3.11/site-packages (from langchainhub) (2.31.0.9)\r\n",
      "Requirement already satisfied: charset-normalizer<4,>=2 in /Users/erictak/miniconda3/envs/Mistral7B/lib/python3.11/site-packages (from requests<3,>=2->langchainhub) (2.0.4)\r\n",
      "Requirement already satisfied: idna<4,>=2.5 in /Users/erictak/miniconda3/envs/Mistral7B/lib/python3.11/site-packages (from requests<3,>=2->langchainhub) (3.4)\r\n",
      "Requirement already satisfied: urllib3<3,>=1.21.1 in /Users/erictak/miniconda3/envs/Mistral7B/lib/python3.11/site-packages (from requests<3,>=2->langchainhub) (2.0.6)\r\n",
      "Requirement already satisfied: certifi>=2017.4.17 in /Users/erictak/miniconda3/envs/Mistral7B/lib/python3.11/site-packages (from requests<3,>=2->langchainhub) (2023.7.22)\r\n"
     ]
    }
   ],
   "source": [
    "!pip install langchain\n",
    "!pip install gpt4all\n",
    "!pip install chromadb\n",
    "!pip install langchainhub"
   ],
   "metadata": {
    "collapsed": false,
    "ExecuteTime": {
     "end_time": "2023-10-16T21:15:24.939275Z",
     "start_time": "2023-10-16T21:15:18.000130Z"
    }
   },
   "id": "8cb73ccb9a4d5cec"
  },
  {
   "cell_type": "markdown",
   "source": [
    "# Load data from the web\n",
    "Let's load some data from the web. We will use the BBC article about the Japanese method of upcycling."
   ],
   "metadata": {
    "collapsed": false
   },
   "id": "49be09972d55d455"
  },
  {
   "cell_type": "code",
   "execution_count": 4,
   "id": "initial_id",
   "metadata": {
    "collapsed": true,
    "ExecuteTime": {
     "end_time": "2023-10-16T21:21:10.547886Z",
     "start_time": "2023-10-16T21:21:10.087701Z"
    }
   },
   "outputs": [],
   "source": [
    "from langchain.document_loaders import WebBaseLoader\n",
    "loader = WebBaseLoader(\"https://www.bbc.com/culture/article/20231013-the-300-year-old-japanese-method-of-upcyling\")\n",
    "data = loader.load()"
   ]
  },
  {
   "cell_type": "markdown",
   "source": [
    "# Split into chunks\n",
    "We will split the document into chunks of 1500 characters with 100 characters overlap."
   ],
   "metadata": {
    "collapsed": false
   },
   "id": "c938d6f90190d82d"
  },
  {
   "cell_type": "code",
   "execution_count": 5,
   "outputs": [],
   "source": [
    "# Split into chunks \n",
    "from langchain.text_splitter import RecursiveCharacterTextSplitter\n",
    "text_splitter = RecursiveCharacterTextSplitter(chunk_size=1500, chunk_overlap=100)\n",
    "all_splits = text_splitter.split_documents(data)"
   ],
   "metadata": {
    "collapsed": false,
    "ExecuteTime": {
     "end_time": "2023-10-16T21:21:11.012021Z",
     "start_time": "2023-10-16T21:21:11.007764Z"
    }
   },
   "id": "287c26562103be25"
  },
  {
   "cell_type": "markdown",
   "source": [
    "# Embed and store\n",
    "We will embed the chunks using GPT4AllEmbeddings and store them in a Chroma vectorstore."
   ],
   "metadata": {
    "collapsed": false
   },
   "id": "c37c0476e04f6af9"
  },
  {
   "cell_type": "code",
   "execution_count": 6,
   "outputs": [],
   "source": [
    "# Embed and store\n",
    "from langchain.vectorstores import Chroma\n",
    "from langchain.embeddings import GPT4AllEmbeddings\n",
    "from langchain.embeddings import OllamaEmbeddings # We can also try Ollama embeddings\n",
    "vectorstore = Chroma.from_documents(documents=all_splits,\n",
    "                                    embedding=GPT4AllEmbeddings())"
   ],
   "metadata": {
    "collapsed": false,
    "ExecuteTime": {
     "end_time": "2023-10-16T21:21:52.866866Z",
     "start_time": "2023-10-16T21:21:28.014727Z"
    }
   },
   "id": "1f70a950896c8600"
  },
  {
   "cell_type": "code",
   "execution_count": 7,
   "outputs": [],
   "source": [
    "# RAG prompt\n",
    "from langchain import hub\n",
    "QA_CHAIN_PROMPT = hub.pull(\"rlm/rag-prompt-llama\")"
   ],
   "metadata": {
    "collapsed": false,
    "ExecuteTime": {
     "end_time": "2023-10-16T21:22:00.576998Z",
     "start_time": "2023-10-16T21:21:59.844622Z"
    }
   },
   "id": "20ca4d5607be0a45"
  },
  {
   "cell_type": "markdown",
   "source": [
    "# Choose a model\n",
    "We will use the Mistral model from the LLM family."
   ],
   "metadata": {
    "collapsed": false
   },
   "id": "6662d531ff57e02a"
  },
  {
   "cell_type": "code",
   "execution_count": 8,
   "outputs": [],
   "source": [
    "# LLM\n",
    "from langchain.llms import Ollama\n",
    "from langchain.callbacks.manager import CallbackManager\n",
    "from langchain.callbacks.streaming_stdout import StreamingStdOutCallbackHandler\n",
    "llm = Ollama(model=\"mistral\",\n",
    "             verbose=True,\n",
    "             callback_manager=CallbackManager([StreamingStdOutCallbackHandler()]))"
   ],
   "metadata": {
    "collapsed": false,
    "ExecuteTime": {
     "end_time": "2023-10-16T21:22:02.382175Z",
     "start_time": "2023-10-16T21:22:02.357446Z"
    }
   },
   "id": "850aa5c143cdacc0"
  },
  {
   "cell_type": "code",
   "execution_count": 9,
   "outputs": [],
   "source": [
    "# QA chain\n",
    "from langchain.chains import RetrievalQA\n",
    "qa_chain = RetrievalQA.from_chain_type(\n",
    "    llm,\n",
    "    retriever=vectorstore.as_retriever(),\n",
    "    chain_type_kwargs={\"prompt\": QA_CHAIN_PROMPT},\n",
    ")"
   ],
   "metadata": {
    "collapsed": false,
    "ExecuteTime": {
     "end_time": "2023-10-16T21:22:04.460218Z",
     "start_time": "2023-10-16T21:22:03.886774Z"
    }
   },
   "id": "936bb9b3bf95df20"
  },
  {
   "cell_type": "markdown",
   "source": [
    "# Ask a question\n",
    "Let's ask a question about the article."
   ],
   "metadata": {
    "collapsed": false
   },
   "id": "ab8319a15f85714e"
  },
  {
   "cell_type": "code",
   "execution_count": 10,
   "outputs": [
    {
     "name": "stdout",
     "output_type": "stream",
     "text": [
      "The article is about sashiko, a basic form of stitching that is commonly used for denim repair but can also be applied to other woven fabrics. The technique involves pulling the yarn through the fabric from the front and up again, creating rows of stitches. Sashiko needles are longer than usual to allow multiple stitches to be made at once. The article discusses the benefits of sashiko workshops, including learning a versatile skill and meeting like-minded people.{'model': 'mistral', 'created_at': '2023-10-16T21:22:20.87282Z', 'response': '', 'done': True, 'context': [733, 16289, 28793, 10649, 28747, 733, 16289, 28793, 5275, 18741, 4060, 995, 460, 396, 13892, 354, 2996, 28733, 509, 28727, 2131, 9796, 28723, 5938, 272, 2296, 7769, 302, 17913, 286, 2758, 298, 4372, 272, 2996, 28723, 1047, 368, 949, 28742, 28707, 873, 272, 4372, 28725, 776, 1315, 369, 368, 949, 28742, 28707, 873, 28723, 5938, 1712, 23748, 7228, 304, 1840, 272, 4372, 3078, 864, 26364, 700, 18741, 4060, 28705, 13, 24994, 28747, 1824, 349, 456, 5447, 684, 28804, 28705, 13, 2083, 28747, 387, 29000, 29000, 29000, 29000, 29000, 29000, 29000, 29000, 29000, 6746, 1864, 574, 11780, 288, 10455, 349, 272, 1348, 4336, 442, 1019, 7191, 306, 3739, 821, 272, 10455, 368, 28809, 267, 290, 2570, 28723, 345, 1976, 949, 28809, 28707, 947, 378, 298, 7294, 442, 298, 1601, 16516, 862, 2627, 24062, 3539, 353, 10802, 28611, 28723, 13, 13, 966, 452, 431, 272, 19942, 2305, 525, 25614, 28735, 483, 2324, 1223, 28710, 7699, 28735, 4647, 28760, 3387, 653, 28743, 3574, 1169, 497, 10957, 4738, 28765, 1004, 14265, 25614, 28735, 483, 1925, 301, 6058, 10387, 1470, 3177, 17147, 24742, 10639, 2324, 1223, 28735, 4647, 11579, 28713, 302, 5938, 22261, 272, 19942, 4100, 814, 2426, 13077, 22548, 2426, 13077, 28743, 600, 497, 28743, 600, 497, 6169, 3032, 15576, 7401, 282, 2480, 313, 617, 18003, 272, 16309, 13806, 396, 26723, 22105, 28760, 4738, 19863, 354, 368, 3261, 2035, 864, 395, 592, 20505, 18675, 28705, 28750, 28734, 28750, 28770, 16309, 28723, 415, 16309, 349, 459, 7332, 354, 272, 3036, 302, 9354, 7363, 28723, 4939, 684, 813, 4431, 298, 9354, 3062, 288, 28723, 13, 13, 1313, 349, 28725, 28175, 24062, 3539, 353, 10802, 28611, 28725, 8184, 354, 1395, 693, 460, 865, 776, 5615, 652, 8123, 778, 11701, 28745, 272, 15914, 304, 478, 10302, 1055, 7825, 268, 1029, 13370, 12318, 354, 3944, 28733, 28722, 7106, 5804, 1791, 529, 28725, 304, 622, 347, 3822, 264, 20156, 438, 272, 8648, 354, 9116, 299, 10113, 28723, 345, 1313, 28742, 28713, 272, 1080, 6471, 1221, 302, 341, 1986, 288, 862, 630, 24733, 28723, 345, 1976, 541, 776, 8350, 3300, 378, 1059, 298, 272, 852, 302, 272, 10455, 477, 272, 2778, 304, 582, 1076, 28723, 1015, 28725, 513, 368, 2231, 264, 5150, 304, 868, 1567, 852, 304, 5211, 297, 272, 27612, 28725, 368, 541, 2231, 264, 2967, 464, 1473, 681, 3500, 28742, 302, 341, 15868, 28725, 2492, 378, 8184, 354, 1457, 321, 11701, 611, 1092, 378, 28742, 28713, 459, 776, 1457, 321, 28723, 345, 2198, 1043, 390, 368, 938, 7658, 11623, 5427, 28725, 368, 541, 938, 268, 1029, 13370, 2673, 544, 275, 8722, 7372, 6720, 28723, 1136, 264, 11108, 28725, 378, 28742, 28713, 1215, 3502, 13491, 611, 12273, 28747, 8092, 268, 1029, 13370, 764, 28705, 272, 1524, 302, 341, 1986, 288, 5979, 2595, 368, 927, 298, 1149, 349, 264, 2130, 28733, 22501, 437, 291, 1716, 288, 4969, 28725, 442, 284, 16935, 28725, 298, 3924, 11533, 356, 272, 17673, 28745, 264, 5340, 298, 10718, 28745, 268, 1029, 13370, 927, 867, 304, 264, 268, 1029, 13370, 306, 321, 982, 356, 272, 4986, 9728, 298, 1760, 272, 25710, 297, 15317, 272, 3822, 341, 1986, 354, 272, 11108, 298, 771, 28723, 2909, 290, 14930, 2111, 264, 5543, 20746, 298, 272, 337, 1331, 298, 2111, 378, 4210, 6342, 28745, 2663, 28725, 737, 3539, 353, 10802, 28611, 28725, 993, 26627, 272, 337, 1331, 395, 8675, 271, 28742, 28713, 347, 274, 28727, 897, 28725, 298, 1038, 378, 12774, 28723, 21929, 2049, 12190, 28725, 3545, 28725, 541, 938, 989, 28733, 3043, 877, 5601, 1184, 28724, 5427, 28723, 1092, 378, 28742, 28713, 459, 776, 272, 25233, 302, 272, 11108, 369, 2104, 973, 28723, 345, 28737, 737, 369, 272, 11780, 3157, 28809, 28707, 272, 1080, 15574, 4480, 28745, 272, 341, 15868, 460, 862, 2627, 3539, 353, 10802, 28611, 28723, 13, 13, 28733, 29000, 29000, 29000, 29000, 29000, 29000, 29000, 29000, 29000, 318, 1029, 13370, 927, 867, 460, 3774, 354, 264, 2611, 764, 579, 369, 28725, 513, 368, 947, 28725, 368, 541, 511, 680, 821, 624, 341, 1986, 438, 264, 727, 28723, 29000, 20491, 28742, 28713, 550, 28800, 28741, 304, 272, 382, 751, 8770, 302, 9160, 2574, 460, 3352, 272, 6194, 6780, 1139, 298, 2405, 268, 1029, 13370, 26329, 5915, 28723, 21804, 1549, 297, 1432, 1267, 28742, 6043, 4409, 318, 889, 288, 1739, 28706, 654, 24730, 298, 582, 15660, 1457, 321, 7769, 28725, 1413, 268, 1029, 13370, 764, 5776, 9383, 302, 3945, 271, 8648, 28713, 403, 3352, 1395, 4636, 268, 1029, 13370, 304, 287, 8811, 771, 12526, 297, 272, 12574, 28733, 6560, 297, 28705, 28750, 28734, 28750, 28750, 28725, 304, 9383, 7825, 26329, 297, 1338, 297, 4222, 304, 3270, 28723, 560, 272, 2223, 28725, 330, 1074, 1426, 28710, 27280, 1449, 4533, 28708, 302, 4324, 15660, 662, 25809, 659, 750, 3822, 396, 297, 28733, 9701, 268, 1029, 13370, 20156, 28723, 560, 272, 8844, 1526, 28725, 17211, 8092, 5804, 8885, 4167, 877, 22433, 846, 272, 11108, 7172, 578, 28725, 1413, 378, 298, 481, 28714, 5067, 21224, 497, 304, 13898, 811, 9338, 28725, 1019, 356, 272, 305, 4038, 302, 871, 15255, 4890, 28708, 28723, 29000, 28705, 29000, 28735, 1029, 13370, 26329, 764, 2490, 624, 486, 5776, 9383, 302, 3945, 271, 8648, 28713, 764, 460, 6488, 297, 20646, 325, 28743, 10709, 28747, 3945, 271, 28731, 7638, 1055, 28804, 345, 8479, 28725, 680, 821, 2270, 28725, 736, 28742, 28713, 264, 1353, 3232, 356, 290, 2570, 862, 2627, 747, 279, 20233, 15914, 24124, 367, 7046, 28723, 345, 21794, 460, 7888, 680, 9994, 739, 378, 3435, 298, 22153, 354, 652, 8155, 28723, 318, 27301, 2437, 15588, 298, 4118, 3252, 1468, 302, 272, 13278, 4779, 28725, 477, 9868, 272, 7069, 28725, 298, 970, 574, 13278, 349, 1269, 304, 693, 659, 1269, 706, 28723, 8092, 290, 2570, 349, 1259, 264, 4672, 9467, 9949, 304, 905, 947, 298, 2822, 1167, 9804, 298, 1038, 652, 13278, 680, 3432, 2345, 405, 304, 5853, 28723, 318, 1029, 13370, 349, 835, 1215, 2839, 1079, 10131, 579, 378, 28742, 28713, 264, 1598, 10346, 298, 2822, 2373, 272, 13789, 302, 264, 20156, 28725, 304, 2647, 737, 28733, 25117, 905, 611, 28705, 13, 2820, 16981, 28747, 733, 28748, 16289, 28793, 733, 28748, 16289, 28793, 13, 1014, 5447, 349, 684, 268, 1029, 13370, 28725, 264, 6471, 1221, 302, 341, 1986, 288, 369, 349, 14473, 1307, 354, 1457, 321, 11701, 562, 541, 835, 347, 7589, 298, 799, 275, 8722, 7372, 6720, 28723, 415, 11108, 14657, 13672, 272, 337, 1331, 1059, 272, 10455, 477, 272, 2778, 304, 582, 1076, 28725, 6818, 11926, 302, 341, 15868, 28723, 318, 1029, 13370, 927, 867, 460, 3774, 821, 8434, 298, 1914, 5166, 341, 15868, 298, 347, 1269, 438, 2327, 28723, 415, 5447, 3342, 274, 272, 7196, 302, 268, 1029, 13370, 26329, 28725, 2490, 5168, 264, 3502, 13491, 10346, 304, 5283, 737, 28733, 25117, 905, 28723], 'total_duration': 14159996333, 'load_duration': 5734357625, 'prompt_eval_count': 1007, 'prompt_eval_duration': 4674974000, 'eval_count': 103, 'eval_duration': 3657647000}\n"
     ]
    }
   ],
   "source": [
    "from langchain.schema import LLMResult\n",
    "from langchain.callbacks.base import BaseCallbackHandler\n",
    "\n",
    "class GenerationStatisticsCallback(BaseCallbackHandler):\n",
    "    def on_llm_end(self, response: LLMResult, **kwargs) -> None:\n",
    "        print(response.generations[0][0].generation_info)\n",
    "        \n",
    "callback_manager = CallbackManager([StreamingStdOutCallbackHandler(), GenerationStatisticsCallback()])\n",
    "\n",
    "llm = Ollama(base_url=\"http://localhost:11434\",\n",
    "             model=\"mistral\",\n",
    "             verbose=True,\n",
    "             callback_manager=callback_manager)\n",
    "\n",
    "qa_chain = RetrievalQA.from_chain_type(\n",
    "    llm,\n",
    "    retriever=vectorstore.as_retriever(),\n",
    "    chain_type_kwargs={\"prompt\": QA_CHAIN_PROMPT},\n",
    ")\n",
    "\n",
    "question = \"What is this article about?\"\n",
    "result = qa_chain({\"query\": question})"
   ],
   "metadata": {
    "collapsed": false,
    "ExecuteTime": {
     "end_time": "2023-10-16T21:22:20.878457Z",
     "start_time": "2023-10-16T21:22:06.255599Z"
    }
   },
   "id": "78344b818b1330c0"
  },
  {
   "cell_type": "code",
   "execution_count": 11,
   "outputs": [
    {
     "name": "stdout",
     "output_type": "stream",
     "text": [
      "It appears that sashiko, a traditional Japanese mending technique, has become more popular in recent times. It is known for its aesthetic appeal, practicality, and versatility in various applications, including fashion, art, and home decor. The trend is driven by people's increasing focus on sustainability in the clothing industry and their desire to learn ancient crafts like sashiko. Sashiko workshops are being offered at venues such as museums and private tutors in both the UK and US.{'model': 'mistral', 'created_at': '2023-10-16T21:22:41.222468Z', 'response': '', 'done': True, 'context': [733, 16289, 28793, 10649, 28747, 733, 16289, 28793, 5275, 18741, 4060, 995, 460, 396, 13892, 354, 2996, 28733, 509, 28727, 2131, 9796, 28723, 5938, 272, 2296, 7769, 302, 17913, 286, 2758, 298, 4372, 272, 2996, 28723, 1047, 368, 949, 28742, 28707, 873, 272, 4372, 28725, 776, 1315, 369, 368, 949, 28742, 28707, 873, 28723, 5938, 1712, 23748, 7228, 304, 1840, 272, 4372, 3078, 864, 26364, 700, 18741, 4060, 28705, 13, 24994, 28747, 1824, 403, 272, 1432, 2996, 28804, 28705, 13, 2083, 28747, 387, 29000, 29000, 29000, 29000, 29000, 29000, 29000, 29000, 29000, 6746, 1864, 574, 11780, 288, 10455, 349, 272, 1348, 4336, 442, 1019, 7191, 306, 3739, 821, 272, 10455, 368, 28809, 267, 290, 2570, 28723, 345, 1976, 949, 28809, 28707, 947, 378, 298, 7294, 442, 298, 1601, 16516, 862, 2627, 24062, 3539, 353, 10802, 28611, 28723, 13, 13, 966, 452, 431, 272, 19942, 2305, 525, 25614, 28735, 483, 2324, 1223, 28710, 7699, 28735, 4647, 28760, 3387, 653, 28743, 3574, 1169, 497, 10957, 4738, 28765, 1004, 14265, 25614, 28735, 483, 1925, 301, 6058, 10387, 1470, 3177, 17147, 24742, 10639, 2324, 1223, 28735, 4647, 11579, 28713, 302, 5938, 22261, 272, 19942, 4100, 814, 2426, 13077, 22548, 2426, 13077, 28743, 600, 497, 28743, 600, 497, 6169, 3032, 15576, 7401, 282, 2480, 313, 617, 18003, 272, 16309, 13806, 396, 26723, 22105, 28760, 4738, 19863, 354, 368, 3261, 2035, 864, 395, 592, 20505, 18675, 28705, 28750, 28734, 28750, 28770, 16309, 28723, 415, 16309, 349, 459, 7332, 354, 272, 3036, 302, 9354, 7363, 28723, 4939, 684, 813, 4431, 298, 9354, 3062, 288, 28723, 13, 13, 3746, 1063, 22741, 477, 2887, 4918, 298, 8844, 28725, 304, 1679, 28733, 28720, 1836, 535, 7069, 325, 2594, 626, 1197, 7069, 28731, 298, 3437, 27218, 3208, 28723, 28735, 1029, 13370, 349, 1215, 2839, 1079, 10131, 579, 378, 28742, 28713, 264, 1598, 10346, 298, 2822, 2373, 272, 13789, 302, 264, 20156, 764, 24124, 367, 7046, 1313, 28742, 28713, 5230, 708, 8982, 369, 268, 1029, 13370, 659, 2727, 264, 17525, 9156, 297, 272, 3797, 764, 378, 349, 3588, 298, 511, 28725, 304, 4672, 390, 1162, 390, 11118, 28723, 8784, 28725, 369, 6708, 27974, 302, 11780, 1328, 1719, 270, 1927, 297, 264, 4682, 480, 2550, 302, 1176, 9567, 28725, 9547, 4198, 754, 395, 3075, 341, 15868, 28725, 541, 347, 1419, 764, 737, 272, 5522, 28742, 28713, 949, 2166, 764, 297, 1524, 319, 7590, 497, 28725, 17793, 297, 1741, 9949, 26329, 28725, 304, 2673, 8577, 302, 10005, 356, 320, 849, 14563, 304, 18351, 28723, 28735, 1029, 13370, 10636, 28733, 29000, 29000, 29000, 29000, 29000, 29000, 29000, 29000, 29000, 318, 1029, 13370, 5427, 3435, 297, 1581, 17628, 28725, 8012, 2694, 442, 521, 982, 2694, 28725, 304, 835, 297, 2760, 304, 5045, 28723, 5938, 264, 5427, 369, 349, 7191, 6931, 263, 821, 272, 10455, 368, 460, 427, 9988, 356, 298, 28723, 13, 13, 28733, 29000, 29000, 29000, 29000, 29000, 29000, 29000, 29000, 29000, 318, 1029, 13370, 927, 867, 460, 3774, 354, 264, 2611, 764, 579, 369, 28725, 513, 368, 947, 28725, 368, 541, 511, 680, 821, 624, 341, 1986, 438, 264, 727, 28723, 29000, 20491, 28742, 28713, 550, 28800, 28741, 304, 272, 382, 751, 8770, 302, 9160, 2574, 460, 3352, 272, 6194, 6780, 1139, 298, 2405, 268, 1029, 13370, 26329, 5915, 28723, 21804, 1549, 297, 1432, 1267, 28742, 6043, 4409, 318, 889, 288, 1739, 28706, 654, 24730, 298, 582, 15660, 1457, 321, 7769, 28725, 1413, 268, 1029, 13370, 764, 5776, 9383, 302, 3945, 271, 8648, 28713, 403, 3352, 1395, 4636, 268, 1029, 13370, 304, 287, 8811, 771, 12526, 297, 272, 12574, 28733, 6560, 297, 28705, 28750, 28734, 28750, 28750, 28725, 304, 9383, 7825, 26329, 297, 1338, 297, 4222, 304, 3270, 28723, 560, 272, 2223, 28725, 330, 1074, 1426, 28710, 27280, 1449, 4533, 28708, 302, 4324, 15660, 662, 25809, 659, 750, 3822, 396, 297, 28733, 9701, 268, 1029, 13370, 20156, 28723, 560, 272, 8844, 1526, 28725, 17211, 8092, 5804, 8885, 4167, 877, 22433, 846, 272, 11108, 7172, 578, 28725, 1413, 378, 298, 481, 28714, 5067, 21224, 497, 304, 13898, 811, 9338, 28725, 1019, 356, 272, 305, 4038, 302, 871, 15255, 4890, 28708, 28723, 29000, 28705, 29000, 28735, 1029, 13370, 26329, 764, 2490, 624, 486, 5776, 9383, 302, 3945, 271, 8648, 28713, 764, 460, 6488, 297, 20646, 325, 28743, 10709, 28747, 3945, 271, 28731, 7638, 1055, 28804, 345, 8479, 28725, 680, 821, 2270, 28725, 736, 28742, 28713, 264, 1353, 3232, 356, 290, 2570, 862, 2627, 747, 279, 20233, 15914, 24124, 367, 7046, 28723, 345, 21794, 460, 7888, 680, 9994, 739, 378, 3435, 298, 22153, 354, 652, 8155, 28723, 318, 27301, 2437, 15588, 298, 4118, 3252, 1468, 302, 272, 13278, 4779, 28725, 477, 9868, 272, 7069, 28725, 298, 970, 574, 13278, 349, 1269, 304, 693, 659, 1269, 706, 28723, 8092, 290, 2570, 349, 1259, 264, 4672, 9467, 9949, 304, 905, 947, 298, 2822, 1167, 9804, 298, 1038, 652, 13278, 680, 3432, 2345, 405, 304, 5853, 28723, 318, 1029, 13370, 349, 835, 1215, 2839, 1079, 10131, 579, 378, 28742, 28713, 264, 1598, 10346, 298, 2822, 2373, 272, 13789, 302, 264, 20156, 28725, 304, 2647, 737, 28733, 25117, 905, 611, 28705, 13, 2820, 16981, 28747, 733, 28748, 16289, 28793, 733, 28748, 16289, 28793, 13, 13, 1313, 8045, 369, 268, 1029, 13370, 28725, 264, 7062, 8092, 290, 2570, 11108, 28725, 659, 2727, 680, 4387, 297, 5391, 2421, 28723, 661, 349, 2651, 354, 871, 27974, 13650, 28725, 11118, 472, 28725, 304, 3502, 270, 1232, 297, 4118, 8429, 28725, 2490, 8844, 28725, 1524, 28725, 304, 1611, 8059, 28723, 415, 9156, 349, 12215, 486, 905, 28742, 28713, 6488, 3232, 356, 11755, 2437, 297, 272, 13278, 4779, 304, 652, 8646, 298, 2822, 9467, 9949, 28713, 737, 268, 1029, 13370, 28723, 318, 1029, 13370, 26329, 460, 1250, 6373, 438, 6780, 1139, 1259, 390, 13041, 28713, 304, 1597, 8311, 734, 297, 1560, 272, 6194, 304, 2223, 28723], 'total_duration': 12451957208, 'load_duration': 4929378250, 'prompt_eval_count': 854, 'prompt_eval_duration': 3776083000, 'eval_count': 106, 'eval_duration': 3652664000}\n"
     ]
    }
   ],
   "source": [],
   "metadata": {
    "collapsed": false,
    "ExecuteTime": {
     "end_time": "2023-10-16T21:22:41.227897Z",
     "start_time": "2023-10-16T21:22:23.420667Z"
    }
   },
   "id": "d50ffa58ff151667"
  }
 ],
 "metadata": {
  "kernelspec": {
   "display_name": "Python 3",
   "language": "python",
   "name": "python3"
  },
  "language_info": {
   "codemirror_mode": {
    "name": "ipython",
    "version": 2
   },
   "file_extension": ".py",
   "mimetype": "text/x-python",
   "name": "python",
   "nbconvert_exporter": "python",
   "pygments_lexer": "ipython2",
   "version": "2.7.6"
  }
 },
 "nbformat": 4,
 "nbformat_minor": 5
}
